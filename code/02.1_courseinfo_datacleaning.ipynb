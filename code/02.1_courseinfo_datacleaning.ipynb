{
 "cells": [
  {
   "cell_type": "markdown",
   "id": "defined-convenience",
   "metadata": {},
   "source": [
    "## 2.1 Course Info Data Cleaning"
   ]
  },
  {
   "cell_type": "markdown",
   "id": "pending-toyota",
   "metadata": {},
   "source": [
    "### Import libraries"
   ]
  },
  {
   "cell_type": "code",
   "execution_count": 1,
   "id": "convertible-filling",
   "metadata": {},
   "outputs": [],
   "source": [
    "# the basics\n",
    "import pandas as pd\n",
    "import numpy as np\n",
    "import matplotlib.pyplot as plt\n",
    "import seaborn as sns\n",
    "\n",
    "# import preprocessing and modeling\n",
    "from sklearn.feature_extraction.text import CountVectorizer, TfidfVectorizer\n",
    "\n",
    "# immport metrics\n",
    "from sklearn.metrics import confusion_matrix, plot_confusion_matrix\n",
    "\n",
    "pd.options.display.max_colwidth = 350"
   ]
  },
  {
   "cell_type": "markdown",
   "id": "chief-clinic",
   "metadata": {},
   "source": [
    "### Data Cleaning: Independent variables (X)\n",
    "#### Import data"
   ]
  },
  {
   "cell_type": "code",
   "execution_count": 3,
   "id": "structured-hayes",
   "metadata": {},
   "outputs": [],
   "source": [
    "path = '../data/ds_course_df.csv'\n",
    "course = pd.read_csv(path)\n",
    "\n",
    "# quick pre-processing, dropping columns and remove rows with null values\n",
    "course.drop(columns=['Unnamed: 0'], inplace=True)\n",
    "course.dropna(inplace=True)"
   ]
  },
  {
   "cell_type": "code",
   "execution_count": 4,
   "id": "offensive-orange",
   "metadata": {},
   "outputs": [
    {
     "data": {
      "text/plain": [
       "(560, 11)"
      ]
     },
     "execution_count": 4,
     "metadata": {},
     "output_type": "execute_result"
    }
   ],
   "source": [
    "course.shape"
   ]
  },
  {
   "cell_type": "code",
   "execution_count": 5,
   "id": "tough-clock",
   "metadata": {},
   "outputs": [
    {
     "name": "stdout",
     "output_type": "stream",
     "text": [
      "<class 'pandas.core.frame.DataFrame'>\n",
      "Int64Index: 560 entries, 0 to 559\n",
      "Data columns (total 11 columns):\n",
      " #   Column         Non-Null Count  Dtype  \n",
      "---  ------         --------------  -----  \n",
      " 0   course_href    560 non-null    object \n",
      " 1   course_name    560 non-null    object \n",
      " 2   partner_title  560 non-null    object \n",
      " 3   stars          560 non-null    float64\n",
      " 4   recent_views   560 non-null    object \n",
      " 5   num_ratings    560 non-null    object \n",
      " 6   num_reviews    560 non-null    int64  \n",
      " 7   description    560 non-null    object \n",
      " 8   outcome        560 non-null    object \n",
      " 9   highlight      560 non-null    object \n",
      " 10  length         560 non-null    object \n",
      "dtypes: float64(1), int64(1), object(9)\n",
      "memory usage: 52.5+ KB\n"
     ]
    }
   ],
   "source": [
    "course.info()"
   ]
  },
  {
   "cell_type": "code",
   "execution_count": 6,
   "id": "healthy-anniversary",
   "metadata": {},
   "outputs": [
    {
     "data": {
      "text/html": [
       "<div>\n",
       "<style scoped>\n",
       "    .dataframe tbody tr th:only-of-type {\n",
       "        vertical-align: middle;\n",
       "    }\n",
       "\n",
       "    .dataframe tbody tr th {\n",
       "        vertical-align: top;\n",
       "    }\n",
       "\n",
       "    .dataframe thead th {\n",
       "        text-align: right;\n",
       "    }\n",
       "</style>\n",
       "<table border=\"1\" class=\"dataframe\">\n",
       "  <thead>\n",
       "    <tr style=\"text-align: right;\">\n",
       "      <th></th>\n",
       "      <th>course_href</th>\n",
       "      <th>course_name</th>\n",
       "      <th>partner_title</th>\n",
       "      <th>stars</th>\n",
       "      <th>recent_views</th>\n",
       "      <th>num_ratings</th>\n",
       "      <th>num_reviews</th>\n",
       "      <th>description</th>\n",
       "      <th>outcome</th>\n",
       "      <th>highlight</th>\n",
       "      <th>length</th>\n",
       "    </tr>\n",
       "  </thead>\n",
       "  <tbody>\n",
       "    <tr>\n",
       "      <th>0</th>\n",
       "      <td>/learn/exploratory-data-analysis</td>\n",
       "      <td>Exploratory Data Analysis</td>\n",
       "      <td>Johns Hopkins University</td>\n",
       "      <td>4.7</td>\n",
       "      <td>108,049 recent views</td>\n",
       "      <td>5,836 ratings</td>\n",
       "      <td>845</td>\n",
       "      <td>This course covers the essential exploratory techniques for summarizing data. These techniques are typically applied before formal modeling commences and can help inform the development of more complex statistical models. Exploratory techniques are also important for eliminating or sharpening potential hypotheses about the world that can be add...</td>\n",
       "      <td>['38%started a new career after completing these courses', '15%got a pay increase or promotion', '38%got a tangible career benefit from this course']</td>\n",
       "      <td>['100% online', 'Shareable Certificate', 'Flexible deadlines', 'English']</td>\n",
       "      <td>Approx. 55 hours to complete</td>\n",
       "    </tr>\n",
       "  </tbody>\n",
       "</table>\n",
       "</div>"
      ],
      "text/plain": [
       "                        course_href                course_name  \\\n",
       "0  /learn/exploratory-data-analysis  Exploratory Data Analysis   \n",
       "\n",
       "              partner_title  stars          recent_views    num_ratings  \\\n",
       "0  Johns Hopkins University    4.7  108,049 recent views  5,836 ratings   \n",
       "\n",
       "   num_reviews  \\\n",
       "0          845   \n",
       "\n",
       "                                                                                                                                                                                                                                                                                                                                                     description  \\\n",
       "0  This course covers the essential exploratory techniques for summarizing data. These techniques are typically applied before formal modeling commences and can help inform the development of more complex statistical models. Exploratory techniques are also important for eliminating or sharpening potential hypotheses about the world that can be add...   \n",
       "\n",
       "                                                                                                                                                 outcome  \\\n",
       "0  ['38%started a new career after completing these courses', '15%got a pay increase or promotion', '38%got a tangible career benefit from this course']   \n",
       "\n",
       "                                                                   highlight  \\\n",
       "0  ['100% online', 'Shareable Certificate', 'Flexible deadlines', 'English']   \n",
       "\n",
       "                         length  \n",
       "0  Approx. 55 hours to complete  "
      ]
     },
     "execution_count": 6,
     "metadata": {},
     "output_type": "execute_result"
    }
   ],
   "source": [
    "course.head(1)"
   ]
  },
  {
   "cell_type": "markdown",
   "id": "derived-married",
   "metadata": {},
   "source": [
    "### Cleaning up the data in each of the column"
   ]
  },
  {
   "cell_type": "markdown",
   "id": "executed-rough",
   "metadata": {},
   "source": [
    "#### Remove all non-numeric characters `recent_view`, `num_ratings`, and `length` columns"
   ]
  },
  {
   "cell_type": "code",
   "execution_count": 8,
   "id": "valid-pricing",
   "metadata": {},
   "outputs": [],
   "source": [
    "'''\n",
    "remove all non-numeric characters from a string\n",
    "''.join(c for c in \"abc123def456\" if c.isdigit())\n",
    "\n",
    "https://stackoverflow.com/questions/1249388/removing-all-non-numeric-characters-from-string-in-python\n",
    "''.join(c for c in '2,103,753 recent views' if c.isdigit())\n",
    "'''\n",
    "# remove all non-numeric characters from a string\n",
    "course['recent_views'] = course['recent_views'].map(lambda x: int((''.join(c for c in x if c.isdigit()))))\n",
    "course['num_ratings'] = course['num_ratings'].map(lambda x: int((''.join(c for c in x if c.isdigit()))))\n",
    "course['length'] = course['length'].map(lambda x: int((''.join(c for c in x if c.isdigit()))))"
   ]
  },
  {
   "cell_type": "code",
   "execution_count": 9,
   "id": "utility-queensland",
   "metadata": {},
   "outputs": [
    {
     "name": "stdout",
     "output_type": "stream",
     "text": [
      "<class 'pandas.core.frame.DataFrame'>\n",
      "Int64Index: 560 entries, 0 to 559\n",
      "Data columns (total 11 columns):\n",
      " #   Column         Non-Null Count  Dtype  \n",
      "---  ------         --------------  -----  \n",
      " 0   course_href    560 non-null    object \n",
      " 1   course_name    560 non-null    object \n",
      " 2   partner_title  560 non-null    object \n",
      " 3   stars          560 non-null    float64\n",
      " 4   recent_views   560 non-null    int64  \n",
      " 5   num_ratings    560 non-null    int64  \n",
      " 6   num_reviews    560 non-null    int64  \n",
      " 7   description    560 non-null    object \n",
      " 8   outcome        560 non-null    object \n",
      " 9   highlight      560 non-null    object \n",
      " 10  length         560 non-null    int64  \n",
      "dtypes: float64(1), int64(4), object(6)\n",
      "memory usage: 52.5+ KB\n"
     ]
    }
   ],
   "source": [
    "course.info()"
   ]
  },
  {
   "cell_type": "markdown",
   "id": "brown-freedom",
   "metadata": {},
   "source": [
    "#### Dummify `highlight` into individual features"
   ]
  },
  {
   "cell_type": "code",
   "execution_count": 10,
   "id": "temporal-german",
   "metadata": {},
   "outputs": [],
   "source": [
    "# example: https://towardsdatascience.com/dealing-with-list-values-in-pandas-dataframes-a177e534f173\n",
    "# using .apply() and .eval() to turn string into list of items\n",
    "course['highlight'] = course['highlight'].apply(eval)"
   ]
  },
  {
   "cell_type": "code",
   "execution_count": 11,
   "id": "injured-insulation",
   "metadata": {},
   "outputs": [],
   "source": [
    "# this is a function adopted from https://towardsdatascience.com/dealing-with-list-values-in-pandas-dataframes-a177e534f173\n",
    "def to_1D(series):\n",
    "    return pd.Series([x for _list in series for x in _list])"
   ]
  },
  {
   "cell_type": "code",
   "execution_count": 12,
   "id": "southeast-wichita",
   "metadata": {},
   "outputs": [],
   "source": [
    "list_highlights = list(to_1D(course['highlight']).unique())"
   ]
  },
  {
   "cell_type": "code",
   "execution_count": 14,
   "id": "great-authority",
   "metadata": {},
   "outputs": [],
   "source": [
    "# this is a function adopted from https://towardsdatascience.com/dealing-with-list-values-in-pandas-dataframes-a177e534f173\n",
    "def boolean_df(item_lists, unique_items):\n",
    "# this function return a boolean dataframe with the unique items unpacked from the original column.\n",
    "# Create empty dict\n",
    "    bool_dict = {}\n",
    "    \n",
    "    # Loop through all the tags\n",
    "    for i, item in enumerate(unique_items):\n",
    "        \n",
    "        # Apply boolean mask\n",
    "        bool_dict[item] = item_lists.apply(lambda x: item in x)\n",
    "        \n",
    "    # Return the results as a dataframe\n",
    "    return pd.DataFrame(bool_dict)"
   ]
  },
  {
   "cell_type": "code",
   "execution_count": 15,
   "id": "interesting-equity",
   "metadata": {},
   "outputs": [],
   "source": [
    "# create the boolean dataframe with only the items in the highlight column\n",
    "highlight_bool = boolean_df(course['highlight'], list_highlights)"
   ]
  },
  {
   "cell_type": "code",
   "execution_count": 17,
   "id": "aging-loading",
   "metadata": {},
   "outputs": [],
   "source": [
    "# create a list that include all the highlight items that describe a course is part of a specialization\n",
    "serials = [col for col in highlight_bool.columns if 'in the' in col] "
   ]
  },
  {
   "cell_type": "code",
   "execution_count": 19,
   "id": "initial-optics",
   "metadata": {},
   "outputs": [
    {
     "name": "stderr",
     "output_type": "stream",
     "text": [
      "<ipython-input-19-5b5e554c1ddf>:7: SettingWithCopyWarning: \n",
      "A value is trying to be set on a copy of a slice from a DataFrame.\n",
      "Try using .loc[row_indexer,col_indexer] = value instead\n",
      "\n",
      "See the caveats in the documentation: https://pandas.pydata.org/pandas-docs/stable/user_guide/indexing.html#returning-a-view-versus-a-copy\n",
      "  serials_df['part_of_specialization'] = serials_df.sum(axis=1)\n"
     ]
    },
    {
     "data": {
      "text/html": [
       "<div>\n",
       "<style scoped>\n",
       "    .dataframe tbody tr th:only-of-type {\n",
       "        vertical-align: middle;\n",
       "    }\n",
       "\n",
       "    .dataframe tbody tr th {\n",
       "        vertical-align: top;\n",
       "    }\n",
       "\n",
       "    .dataframe thead th {\n",
       "        text-align: right;\n",
       "    }\n",
       "</style>\n",
       "<table border=\"1\" class=\"dataframe\">\n",
       "  <thead>\n",
       "    <tr style=\"text-align: right;\">\n",
       "      <th></th>\n",
       "      <th>Course 4 of 6 in the</th>\n",
       "      <th>Course 1 of 3 in the</th>\n",
       "      <th>Course 1 of 4 in the</th>\n",
       "      <th>Course 4 of 4 in the</th>\n",
       "      <th>Course 1 of 7 in the</th>\n",
       "      <th>Course 2 of 3 in the</th>\n",
       "      <th>Course 3 of 4 in the</th>\n",
       "      <th>Course 4 of 5 in the</th>\n",
       "      <th>Course 1 of 5 in the</th>\n",
       "      <th>Course 3 of 5 in the</th>\n",
       "      <th>...</th>\n",
       "      <th>Course 4 of 8 in the</th>\n",
       "      <th>Course 9 of 9 in the</th>\n",
       "      <th>Course 5 of 7 in the</th>\n",
       "      <th>Course 4 of 7 in the</th>\n",
       "      <th>Course 6 of 8 in the</th>\n",
       "      <th>Course 3 of 6 in the</th>\n",
       "      <th>Course 1 of 8 in the</th>\n",
       "      <th>Course 2 of 7 in the</th>\n",
       "      <th>Course 7 of 7 in the</th>\n",
       "      <th>part_of_specialization</th>\n",
       "    </tr>\n",
       "  </thead>\n",
       "  <tbody>\n",
       "    <tr>\n",
       "      <th>0</th>\n",
       "      <td>False</td>\n",
       "      <td>False</td>\n",
       "      <td>False</td>\n",
       "      <td>False</td>\n",
       "      <td>False</td>\n",
       "      <td>False</td>\n",
       "      <td>False</td>\n",
       "      <td>False</td>\n",
       "      <td>False</td>\n",
       "      <td>False</td>\n",
       "      <td>...</td>\n",
       "      <td>False</td>\n",
       "      <td>False</td>\n",
       "      <td>False</td>\n",
       "      <td>False</td>\n",
       "      <td>False</td>\n",
       "      <td>False</td>\n",
       "      <td>False</td>\n",
       "      <td>False</td>\n",
       "      <td>False</td>\n",
       "      <td>0</td>\n",
       "    </tr>\n",
       "  </tbody>\n",
       "</table>\n",
       "<p>1 rows × 36 columns</p>\n",
       "</div>"
      ],
      "text/plain": [
       "   Course 4 of 6 in the  Course 1 of 3 in the  Course 1 of 4 in the  \\\n",
       "0                 False                 False                 False   \n",
       "\n",
       "   Course 4 of 4 in the  Course 1 of 7 in the  Course 2 of 3 in the  \\\n",
       "0                 False                 False                 False   \n",
       "\n",
       "   Course 3 of 4 in the  Course 4 of 5 in the  Course 1 of 5 in the  \\\n",
       "0                 False                 False                 False   \n",
       "\n",
       "   Course 3 of 5 in the  ...  Course 4 of 8 in the  Course 9 of 9 in the  \\\n",
       "0                 False  ...                 False                 False   \n",
       "\n",
       "   Course 5 of 7 in the  Course 4 of 7 in the  Course 6 of 8 in the  \\\n",
       "0                 False                 False                 False   \n",
       "\n",
       "   Course 3 of 6 in the  Course 1 of 8 in the  Course 2 of 7 in the  \\\n",
       "0                 False                 False                 False   \n",
       "\n",
       "   Course 7 of 7 in the  part_of_specialization  \n",
       "0                 False                       0  \n",
       "\n",
       "[1 rows x 36 columns]"
      ]
     },
     "execution_count": 19,
     "metadata": {},
     "output_type": "execute_result"
    }
   ],
   "source": [
    "# create a new dataframe with only the highlight items that describe a course is part of a specialization\n",
    "serials_df = highlight_bool[serials]\n",
    "\n",
    "# sum all columns in one row, and save the result in a new column,\n",
    "# serials_df['part_of_specialization'] == 1 describe the course is part of a specialization\n",
    "# sum by row: df[\"sum\"] = df.sum(axis=1)\n",
    "serials_df['part_of_specialization'] = serials_df.sum(axis=1)\n",
    "serials_df.head(1)"
   ]
  },
  {
   "cell_type": "code",
   "execution_count": 20,
   "id": "severe-robertson",
   "metadata": {},
   "outputs": [],
   "source": [
    "# create a new column in the highlight data frame to indicate whether a course is part of specialization \n",
    "# drop the original itemized columns\n",
    "highlight_df = highlight_bool.drop(columns=serials)\n",
    "highlight_df['specialization'] = serials_df['part_of_specialization']"
   ]
  },
  {
   "cell_type": "code",
   "execution_count": 21,
   "id": "coral-crowd",
   "metadata": {},
   "outputs": [],
   "source": [
    "# fix the column names \n",
    "highlight_df.columns = highlight_df.columns.str.lower()\n",
    "highlight_df.columns = highlight_df.columns.str.replace(' ', '_')"
   ]
  },
  {
   "cell_type": "code",
   "execution_count": 22,
   "id": "behavioral-penalty",
   "metadata": {},
   "outputs": [],
   "source": [
    "for each in highlight_df.columns:\n",
    "    highlight_df[each] = highlight_df[each].astype(int)"
   ]
  },
  {
   "cell_type": "code",
   "execution_count": 23,
   "id": "humanitarian-values",
   "metadata": {},
   "outputs": [],
   "source": [
    "# course.shape\n",
    "# highlight_df.shape\n",
    "\n",
    "course = pd.concat([course, highlight_df], axis=1)"
   ]
  },
  {
   "cell_type": "markdown",
   "id": "promising-player",
   "metadata": {},
   "source": [
    "#### Clean the `outcome` column"
   ]
  },
  {
   "cell_type": "code",
   "execution_count": 25,
   "id": "indoor-nightlife",
   "metadata": {},
   "outputs": [],
   "source": [
    "# example: https://towardsdatascience.com/dealing-with-list-values-in-pandas-dataframes-a177e534f173\n",
    "# using .apply() and .eval() to turn string into list of items\n",
    "course['outcome'] = course['outcome'].apply(eval)"
   ]
  },
  {
   "cell_type": "code",
   "execution_count": 26,
   "id": "military-rating",
   "metadata": {},
   "outputs": [],
   "source": [
    "# define a function to strip the core content of an outcome\n",
    "\n",
    "def to_core_outcomes(list_of_outcomes):\n",
    "    coure_string_dict = {}\n",
    "    \n",
    "    for each in list_of_outcomes:\n",
    "        value = ''.join([c for c in each if c.isdigit()])\n",
    "        key = each.replace(value, '')\n",
    "        coure_string_dict[key] = int(value)\n",
    "    return coure_string_dict"
   ]
  },
  {
   "cell_type": "code",
   "execution_count": 27,
   "id": "extreme-trailer",
   "metadata": {},
   "outputs": [
    {
     "data": {
      "text/plain": [
       "{'%started a new career after completing these courses': 38,\n",
       " '%got a pay increase or promotion': 15,\n",
       " '%got a tangible career benefit from this course': 38}"
      ]
     },
     "execution_count": 27,
     "metadata": {},
     "output_type": "execute_result"
    }
   ],
   "source": [
    "# testing \n",
    "to_core_outcomes(course['outcome'][0])"
   ]
  },
  {
   "cell_type": "code",
   "execution_count": 28,
   "id": "applicable-standard",
   "metadata": {},
   "outputs": [],
   "source": [
    "course['outcome_core'] = course['outcome'].apply(to_core_outcomes)"
   ]
  },
  {
   "cell_type": "code",
   "execution_count": 29,
   "id": "usual-influence",
   "metadata": {},
   "outputs": [
    {
     "data": {
      "text/html": [
       "<div>\n",
       "<style scoped>\n",
       "    .dataframe tbody tr th:only-of-type {\n",
       "        vertical-align: middle;\n",
       "    }\n",
       "\n",
       "    .dataframe tbody tr th {\n",
       "        vertical-align: top;\n",
       "    }\n",
       "\n",
       "    .dataframe thead th {\n",
       "        text-align: right;\n",
       "    }\n",
       "</style>\n",
       "<table border=\"1\" class=\"dataframe\">\n",
       "  <thead>\n",
       "    <tr style=\"text-align: right;\">\n",
       "      <th></th>\n",
       "      <th>course_href</th>\n",
       "      <th>course_name</th>\n",
       "      <th>partner_title</th>\n",
       "      <th>stars</th>\n",
       "      <th>recent_views</th>\n",
       "      <th>num_ratings</th>\n",
       "      <th>num_reviews</th>\n",
       "      <th>description</th>\n",
       "      <th>outcome</th>\n",
       "      <th>highlight</th>\n",
       "      <th>...</th>\n",
       "      <th>chinese_(traditional)</th>\n",
       "      <th>arabic</th>\n",
       "      <th>portuguese_(brazilian)</th>\n",
       "      <th>russian</th>\n",
       "      <th>advanced_level</th>\n",
       "      <th>chinese_(simplified)</th>\n",
       "      <th>french</th>\n",
       "      <th>japanese</th>\n",
       "      <th>specialization</th>\n",
       "      <th>outcome_core</th>\n",
       "    </tr>\n",
       "  </thead>\n",
       "  <tbody>\n",
       "    <tr>\n",
       "      <th>0</th>\n",
       "      <td>/learn/exploratory-data-analysis</td>\n",
       "      <td>Exploratory Data Analysis</td>\n",
       "      <td>Johns Hopkins University</td>\n",
       "      <td>4.7</td>\n",
       "      <td>108049</td>\n",
       "      <td>5836</td>\n",
       "      <td>845</td>\n",
       "      <td>This course covers the essential exploratory techniques for summarizing data. These techniques are typically applied before formal modeling commences and can help inform the development of more complex statistical models. Exploratory techniques are also important for eliminating or sharpening potential hypotheses about the world that can be add...</td>\n",
       "      <td>[38%started a new career after completing these courses, 15%got a pay increase or promotion, 38%got a tangible career benefit from this course]</td>\n",
       "      <td>[100% online, Shareable Certificate, Flexible deadlines, English]</td>\n",
       "      <td>...</td>\n",
       "      <td>0</td>\n",
       "      <td>0</td>\n",
       "      <td>0</td>\n",
       "      <td>0</td>\n",
       "      <td>0</td>\n",
       "      <td>0</td>\n",
       "      <td>0</td>\n",
       "      <td>0</td>\n",
       "      <td>0</td>\n",
       "      <td>{'%started a new career after completing these courses': 38, '%got a pay increase or promotion': 15, '%got a tangible career benefit from this course': 38}</td>\n",
       "    </tr>\n",
       "  </tbody>\n",
       "</table>\n",
       "<p>1 rows × 28 columns</p>\n",
       "</div>"
      ],
      "text/plain": [
       "                        course_href                course_name  \\\n",
       "0  /learn/exploratory-data-analysis  Exploratory Data Analysis   \n",
       "\n",
       "              partner_title  stars  recent_views  num_ratings  num_reviews  \\\n",
       "0  Johns Hopkins University    4.7        108049         5836          845   \n",
       "\n",
       "                                                                                                                                                                                                                                                                                                                                                     description  \\\n",
       "0  This course covers the essential exploratory techniques for summarizing data. These techniques are typically applied before formal modeling commences and can help inform the development of more complex statistical models. Exploratory techniques are also important for eliminating or sharpening potential hypotheses about the world that can be add...   \n",
       "\n",
       "                                                                                                                                           outcome  \\\n",
       "0  [38%started a new career after completing these courses, 15%got a pay increase or promotion, 38%got a tangible career benefit from this course]   \n",
       "\n",
       "                                                           highlight  ...  \\\n",
       "0  [100% online, Shareable Certificate, Flexible deadlines, English]  ...   \n",
       "\n",
       "   chinese_(traditional)  arabic  portuguese_(brazilian)  russian  \\\n",
       "0                      0       0                       0        0   \n",
       "\n",
       "   advanced_level  chinese_(simplified)  french  japanese  specialization  \\\n",
       "0               0                     0       0         0               0   \n",
       "\n",
       "                                                                                                                                                  outcome_core  \n",
       "0  {'%started a new career after completing these courses': 38, '%got a pay increase or promotion': 15, '%got a tangible career benefit from this course': 38}  \n",
       "\n",
       "[1 rows x 28 columns]"
      ]
     },
     "execution_count": 29,
     "metadata": {},
     "output_type": "execute_result"
    }
   ],
   "source": [
    "course.head(1)"
   ]
  },
  {
   "cell_type": "code",
   "execution_count": 30,
   "id": "conservative-fiber",
   "metadata": {},
   "outputs": [],
   "source": [
    "list_outcomes = ['%got a tangible career benefit from this course',\n",
    " '%got a pay increase or promotion',\n",
    " '%started a new career after completing these courses']"
   ]
  },
  {
   "cell_type": "code",
   "execution_count": 31,
   "id": "continued-hospital",
   "metadata": {},
   "outputs": [],
   "source": [
    "def extract_career_benefit(outcome_dict):\n",
    "    try:\n",
    "        return outcome_dict['%got a tangible career benefit from this course']\n",
    "    except:\n",
    "        return np.nan"
   ]
  },
  {
   "cell_type": "code",
   "execution_count": 32,
   "id": "annual-hampshire",
   "metadata": {},
   "outputs": [],
   "source": [
    "def extract_pay_increase(outcome_dict):\n",
    "    try:\n",
    "        return outcome_dict['%got a pay increase or promotion']\n",
    "    except:\n",
    "        return np.nan"
   ]
  },
  {
   "cell_type": "code",
   "execution_count": 33,
   "id": "union-sharp",
   "metadata": {},
   "outputs": [],
   "source": [
    "def extract_new_career(outcome_dict):\n",
    "    try:\n",
    "        return outcome_dict['%started a new career after completing these courses']\n",
    "    except:\n",
    "        return np.nan"
   ]
  },
  {
   "cell_type": "code",
   "execution_count": 34,
   "id": "honey-tackle",
   "metadata": {},
   "outputs": [],
   "source": [
    "# extract_career_benefit(outcome_bool['outcome_dict'][0])"
   ]
  },
  {
   "cell_type": "code",
   "execution_count": 35,
   "id": "shared-crossing",
   "metadata": {},
   "outputs": [],
   "source": [
    "# course['outcome_dict'].apply(extract_career_benefit)"
   ]
  },
  {
   "cell_type": "code",
   "execution_count": 36,
   "id": "collective-london",
   "metadata": {},
   "outputs": [],
   "source": [
    "course['outcome_career_benefit'] = course['outcome_core'].apply(extract_career_benefit)"
   ]
  },
  {
   "cell_type": "code",
   "execution_count": 37,
   "id": "handmade-police",
   "metadata": {},
   "outputs": [],
   "source": [
    "course['outcome_pay_increase'] = course['outcome_core'].apply(extract_pay_increase)"
   ]
  },
  {
   "cell_type": "code",
   "execution_count": 38,
   "id": "unknown-clearance",
   "metadata": {},
   "outputs": [],
   "source": [
    "course['outcome_new_career'] = course['outcome_core'].apply(extract_new_career)"
   ]
  },
  {
   "cell_type": "code",
   "execution_count": 39,
   "id": "specific-alignment",
   "metadata": {},
   "outputs": [],
   "source": [
    "course = course.drop(columns=['highlight','outcome', 'outcome_core'])"
   ]
  },
  {
   "cell_type": "markdown",
   "id": "communist-footwear",
   "metadata": {},
   "source": [
    "#### Create dummies for university partners: `he_partner`\n",
    "**1: indicating the partner is a university/college vs. companies (i.e. IBM, Google)**"
   ]
  },
  {
   "cell_type": "code",
   "execution_count": 44,
   "id": "collectible-proportion",
   "metadata": {},
   "outputs": [],
   "source": [
    "def is_university(partner_name):\n",
    "    if 'university' in partner_name.lower():\n",
    "        return 1\n",
    "    elif 'college' in partner_name.lower():\n",
    "        return 1\n",
    "    else:\n",
    "        return 0"
   ]
  },
  {
   "cell_type": "code",
   "execution_count": 45,
   "id": "opponent-effect",
   "metadata": {},
   "outputs": [],
   "source": [
    "course['he_partner'] = course['partner_title'].apply(is_university)"
   ]
  },
  {
   "cell_type": "code",
   "execution_count": 46,
   "id": "similar-cooper",
   "metadata": {},
   "outputs": [
    {
     "name": "stdout",
     "output_type": "stream",
     "text": [
      "<class 'pandas.core.frame.DataFrame'>\n",
      "Int64Index: 560 entries, 0 to 559\n",
      "Data columns (total 29 columns):\n",
      " #   Column                  Non-Null Count  Dtype  \n",
      "---  ------                  --------------  -----  \n",
      " 0   course_href             560 non-null    object \n",
      " 1   course_name             560 non-null    object \n",
      " 2   partner_title           560 non-null    object \n",
      " 3   stars                   560 non-null    float64\n",
      " 4   recent_views            560 non-null    int64  \n",
      " 5   num_ratings             560 non-null    int64  \n",
      " 6   num_reviews             560 non-null    int64  \n",
      " 7   description             560 non-null    object \n",
      " 8   length                  560 non-null    int64  \n",
      " 9   100%_online             560 non-null    int64  \n",
      " 10  shareable_certificate   560 non-null    int64  \n",
      " 11  flexible_deadlines      560 non-null    int64  \n",
      " 12  english                 560 non-null    int64  \n",
      " 13  intermediate_level      560 non-null    int64  \n",
      " 14  beginner_level          560 non-null    int64  \n",
      " 15  spanish                 560 non-null    int64  \n",
      " 16  chinese_(traditional)   560 non-null    int64  \n",
      " 17  arabic                  560 non-null    int64  \n",
      " 18  portuguese_(brazilian)  560 non-null    int64  \n",
      " 19  russian                 560 non-null    int64  \n",
      " 20  advanced_level          560 non-null    int64  \n",
      " 21  chinese_(simplified)    560 non-null    int64  \n",
      " 22  french                  560 non-null    int64  \n",
      " 23  japanese                560 non-null    int64  \n",
      " 24  specialization          560 non-null    int64  \n",
      " 25  outcome_career_benefit  281 non-null    float64\n",
      " 26  outcome_pay_increase    174 non-null    float64\n",
      " 27  outcome_new_career      238 non-null    float64\n",
      " 28  he_partner              560 non-null    int64  \n",
      "dtypes: float64(4), int64(21), object(4)\n",
      "memory usage: 151.2+ KB\n"
     ]
    }
   ],
   "source": [
    "course.info()"
   ]
  },
  {
   "cell_type": "markdown",
   "id": "included-fortune",
   "metadata": {},
   "source": [
    "### Data Cleaning: Dependent variables (y)\n",
    "#### Import data "
   ]
  },
  {
   "cell_type": "code",
   "execution_count": 49,
   "id": "unavailable-flavor",
   "metadata": {},
   "outputs": [],
   "source": [
    "enrollment = pd.read_csv('../data/ds_enrollment.csv')\n",
    "enrollment.drop(columns=['Unnamed: 0'], inplace=True)"
   ]
  },
  {
   "cell_type": "code",
   "execution_count": 50,
   "id": "intelligent-attachment",
   "metadata": {},
   "outputs": [
    {
     "data": {
      "text/html": [
       "<div>\n",
       "<style scoped>\n",
       "    .dataframe tbody tr th:only-of-type {\n",
       "        vertical-align: middle;\n",
       "    }\n",
       "\n",
       "    .dataframe tbody tr th {\n",
       "        vertical-align: top;\n",
       "    }\n",
       "\n",
       "    .dataframe thead th {\n",
       "        text-align: right;\n",
       "    }\n",
       "</style>\n",
       "<table border=\"1\" class=\"dataframe\">\n",
       "  <thead>\n",
       "    <tr style=\"text-align: right;\">\n",
       "      <th></th>\n",
       "      <th>course_href</th>\n",
       "      <th>enrollment</th>\n",
       "    </tr>\n",
       "  </thead>\n",
       "  <tbody>\n",
       "    <tr>\n",
       "      <th>0</th>\n",
       "      <td>/learn/exploratory-data-analysis</td>\n",
       "      <td>157,581</td>\n",
       "    </tr>\n",
       "    <tr>\n",
       "      <th>1</th>\n",
       "      <td>/learn/clinical-natural-language-processing</td>\n",
       "      <td>3,341</td>\n",
       "    </tr>\n",
       "    <tr>\n",
       "      <th>2</th>\n",
       "      <td>/learn/machine-learning-with-python</td>\n",
       "      <td>199,048</td>\n",
       "    </tr>\n",
       "    <tr>\n",
       "      <th>3</th>\n",
       "      <td>/learn/material-informatics</td>\n",
       "      <td>11,573</td>\n",
       "    </tr>\n",
       "    <tr>\n",
       "      <th>4</th>\n",
       "      <td>/learn/complete-reinforcement-learning-system</td>\n",
       "      <td>11,701</td>\n",
       "    </tr>\n",
       "  </tbody>\n",
       "</table>\n",
       "</div>"
      ],
      "text/plain": [
       "                                     course_href enrollment\n",
       "0               /learn/exploratory-data-analysis    157,581\n",
       "1    /learn/clinical-natural-language-processing      3,341\n",
       "2            /learn/machine-learning-with-python    199,048\n",
       "3                    /learn/material-informatics     11,573\n",
       "4  /learn/complete-reinforcement-learning-system     11,701"
      ]
     },
     "execution_count": 50,
     "metadata": {},
     "output_type": "execute_result"
    }
   ],
   "source": [
    "enrollment.head()"
   ]
  },
  {
   "cell_type": "code",
   "execution_count": 51,
   "id": "addressed-cameroon",
   "metadata": {},
   "outputs": [],
   "source": [
    "course = course.merge(enrollment,how='inner', on='course_href')"
   ]
  },
  {
   "cell_type": "code",
   "execution_count": 52,
   "id": "strong-river",
   "metadata": {},
   "outputs": [],
   "source": [
    "course.drop_duplicates(inplace=True, ignore_index=True)"
   ]
  },
  {
   "cell_type": "code",
   "execution_count": 53,
   "id": "still-pollution",
   "metadata": {},
   "outputs": [],
   "source": [
    "course['enrollment'] = course['enrollment'].map(lambda x: int((''.join(c for c in x if c.isdigit()))))"
   ]
  },
  {
   "cell_type": "code",
   "execution_count": 55,
   "id": "crucial-grounds",
   "metadata": {},
   "outputs": [
    {
     "data": {
      "text/plain": [
       "(348, 30)"
      ]
     },
     "execution_count": 55,
     "metadata": {},
     "output_type": "execute_result"
    }
   ],
   "source": [
    "course.shape"
   ]
  },
  {
   "cell_type": "code",
   "execution_count": 56,
   "id": "documentary-dutch",
   "metadata": {},
   "outputs": [],
   "source": [
    "# uncomment to run code\n",
    "# course.to_csv('../data/ds_course_modeling.csv')"
   ]
  },
  {
   "cell_type": "code",
   "execution_count": 1,
   "id": "warming-editing",
   "metadata": {},
   "outputs": [],
   "source": [
    "# end of codebook"
   ]
  },
  {
   "cell_type": "code",
   "execution_count": null,
   "id": "funky-gauge",
   "metadata": {},
   "outputs": [],
   "source": []
  }
 ],
 "metadata": {
  "kernelspec": {
   "display_name": "Python 3",
   "language": "python",
   "name": "python3"
  },
  "language_info": {
   "codemirror_mode": {
    "name": "ipython",
    "version": 3
   },
   "file_extension": ".py",
   "mimetype": "text/x-python",
   "name": "python",
   "nbconvert_exporter": "python",
   "pygments_lexer": "ipython3",
   "version": "3.8.5"
  }
 },
 "nbformat": 4,
 "nbformat_minor": 5
}
