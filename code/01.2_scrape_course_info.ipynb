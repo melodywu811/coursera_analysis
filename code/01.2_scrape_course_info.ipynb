{
 "cells": [
  {
   "cell_type": "markdown",
   "id": "orange-pennsylvania",
   "metadata": {},
   "source": [
    "## 1.2 Coursera Course Information Scraper\n",
    "This notebook presents the codes used to scrape a the basic course information given the course href links. "
   ]
  },
  {
   "cell_type": "markdown",
   "id": "registered-preparation",
   "metadata": {},
   "source": [
    "### Import libraries"
   ]
  },
  {
   "cell_type": "code",
   "execution_count": null,
   "id": "plastic-organic",
   "metadata": {},
   "outputs": [],
   "source": [
    "# webscraping libraries\n",
    "import requests\n",
    "from bs4 import BeautifulSoup\n",
    "from selenium import webdriver\n",
    "import time\n",
    "\n",
    "# other libraries \n",
    "import pandas as pd\n",
    "import numpy as np\n",
    "import seaborn as sns\n",
    "import matplotlib.pyplot as plt\n",
    "\n",
    "pd.options.display.max_colwidth = 350"
   ]
  },
  {
   "cell_type": "markdown",
   "id": "smoking-merchant",
   "metadata": {},
   "source": [
    "### Import the urls generated from the previous step"
   ]
  },
  {
   "cell_type": "code",
   "execution_count": null,
   "id": "banned-export",
   "metadata": {},
   "outputs": [],
   "source": [
    "course_url = pd.read_csv('./data/ds_course_urls.csv', header=0, names=['url'])\n",
    "\n",
    "# course_url.drop(columns=['Unnamed: 0'], inplace=True)\n",
    "course_url.dropna(inplace=True)\n",
    "course_url.head()"
   ]
  },
  {
   "cell_type": "code",
   "execution_count": null,
   "id": "blank-slovak",
   "metadata": {},
   "outputs": [],
   "source": [
    "# remove 'https://www.coursera.org' from the urls \n",
    "course_url['course_href'] = course_url['url'].map(lambda x: x.replace('https://www.coursera.org', ''))"
   ]
  },
  {
   "cell_type": "code",
   "execution_count": null,
   "id": "african-hamburg",
   "metadata": {},
   "outputs": [],
   "source": [
    "course_url.head()"
   ]
  },
  {
   "cell_type": "markdown",
   "id": "intermediate-appraisal",
   "metadata": {},
   "source": [
    "### Scrape course info with BeautifulSoup"
   ]
  },
  {
   "cell_type": "code",
   "execution_count": null,
   "id": "happy-mirror",
   "metadata": {},
   "outputs": [],
   "source": [
    "# The below function scrapes the course information with the given url.\n",
    "\n",
    "# course_herf = '/learn/astro'\n",
    "# https://www.coursera.org/learn/astro\n",
    "\n",
    "def course_info(course_herf):\n",
    "    url = f'https://www.coursera.org{course_herf}'\n",
    "    res = requests.get(url) \n",
    "    soup = BeautifulSoup(res.content)\n",
    "\n",
    "    dict_course_info = {\n",
    "        'course_href': course_herf,\n",
    "        'course_name': soup.find('h1').text,\n",
    "        'partner_title': soup.find('h4').text,\n",
    "        'stars': soup.find('div', {'class': 'rc-ReviewsOverview__totals__rating'}).text,\n",
    "        'recent_views': soup.find('div', {'class': 'rc-ProductMetrics'}).text,\n",
    "        'num_ratings': soup.find('div', {'class': '_1srkxe1s XDPRating'}).find_all('div')[3].text,\n",
    "        'num_reviews': soup.find('span', {'itemprop': 'reviewCount'}).text,\n",
    "        'description': soup.find('div', {'class': 'm-t-1 description'}).text,\n",
    "        'outcome': list(set([each.text for each in soup.find_all('div', {'class': '_1k3yl1y'})])),\n",
    "        'highlight': list(set([each.text for each in soup.find_all('div', {'class': '_16ni8zai m-b-0'})])),\n",
    "        'length': soup.find_all('div', {'class': '_1tu07i3a'})[-2].find('span').text}\n",
    "    \n",
    "    return dict_course_info"
   ]
  },
  {
   "cell_type": "markdown",
   "id": "interpreted-spending",
   "metadata": {},
   "source": [
    "### Scrape course information of each of the courses in the `course_url` DataFrame"
   ]
  },
  {
   "cell_type": "code",
   "execution_count": null,
   "id": "flexible-provincial",
   "metadata": {},
   "outputs": [],
   "source": [
    "href_list = list(course_url['course_href'])"
   ]
  },
  {
   "cell_type": "code",
   "execution_count": null,
   "id": "moral-windows",
   "metadata": {},
   "outputs": [],
   "source": [
    "# using a forloop to scrape course info from a given list\n",
    "\n",
    "list_info = []\n",
    "\n",
    "for each in href_list:\n",
    "    try:\n",
    "        list_info.append(course_info(each))\n",
    "    except:\n",
    "        pass\n",
    "\n",
    "course_info = pd.DataFrame(list_info)"
   ]
  },
  {
   "cell_type": "code",
   "execution_count": null,
   "id": "equal-short",
   "metadata": {},
   "outputs": [],
   "source": [
    "# uncomment to run\n",
    "# course_info.shape\n",
    "# course_info.to_csv('./data/ds_course_df.csv')"
   ]
  },
  {
   "cell_type": "markdown",
   "id": "fifth-algorithm",
   "metadata": {},
   "source": [
    "### Scrape Course Info with Selenium"
   ]
  },
  {
   "cell_type": "code",
   "execution_count": null,
   "id": "reserved-february",
   "metadata": {},
   "outputs": [],
   "source": [
    "driver = webdriver.Chrome('../capstone_others/chromedriver')"
   ]
  },
  {
   "cell_type": "code",
   "execution_count": null,
   "id": "sensitive-vinyl",
   "metadata": {},
   "outputs": [],
   "source": [
    "driver.get('https://www.coursera.org/learn/exploratory-data-analysis')"
   ]
  },
  {
   "cell_type": "code",
   "execution_count": null,
   "id": "intensive-ready",
   "metadata": {},
   "outputs": [],
   "source": [
    "driver.find_elements_by_xpath('//*[@id=\"main\"]/div/div[1]/div[1]/div[1]/div/div/div[2]/div[2]/div/div[2]/div/div/span/strong/span')[0].text"
   ]
  },
  {
   "cell_type": "code",
   "execution_count": null,
   "id": "immediate-draft",
   "metadata": {},
   "outputs": [],
   "source": [
    "def course_info_sel(course_herf):\n",
    "    course_info_dict = {\n",
    "    'course_href': course_herf,\n",
    "    'enrollment': driver.find_elements_by_xpath('//*[@id=\"main\"]/div/div[1]/div[1]/div[1]/div/div/div[2]/div[2]/div/div[2]/div/div/span/strong/span')[0].text}\n",
    "    return course_info_dict"
   ]
  },
  {
   "cell_type": "code",
   "execution_count": null,
   "id": "meaning-distinction",
   "metadata": {},
   "outputs": [],
   "source": [
    "course_info_sel('/learn/exploratory-data-analysis')"
   ]
  },
  {
   "cell_type": "code",
   "execution_count": null,
   "id": "transsexual-ground",
   "metadata": {},
   "outputs": [],
   "source": [
    "list_enrollment = []\n",
    "\n",
    "for each in href_list:\n",
    "    try:\n",
    "        driver.get(f'https://www.coursera.org{each}')\n",
    "        enrollment = course_info_sel(each)\n",
    "        # print(enrollment) # printing for debugging purpose\n",
    "        list_enrollment.append(enrollment)\n",
    "    except:\n",
    "        pass\n",
    "\n",
    "enrollment_info = pd.DataFrame(list_enrollment)"
   ]
  },
  {
   "cell_type": "code",
   "execution_count": 1,
   "id": "productive-revelation",
   "metadata": {},
   "outputs": [],
   "source": [
    "# uncomment to run\n",
    "# enrollment_info.shape\n",
    "# enrollment_info.to_csv('./data/ds_enrollment.csv')"
   ]
  },
  {
   "cell_type": "code",
   "execution_count": 2,
   "id": "commercial-sharp",
   "metadata": {},
   "outputs": [],
   "source": [
    "# end of notebook"
   ]
  }
 ],
 "metadata": {
  "kernelspec": {
   "display_name": "Python 3",
   "language": "python",
   "name": "python3"
  },
  "language_info": {
   "codemirror_mode": {
    "name": "ipython",
    "version": 3
   },
   "file_extension": ".py",
   "mimetype": "text/x-python",
   "name": "python",
   "nbconvert_exporter": "python",
   "pygments_lexer": "ipython3",
   "version": "3.8.5"
  }
 },
 "nbformat": 4,
 "nbformat_minor": 5
}
