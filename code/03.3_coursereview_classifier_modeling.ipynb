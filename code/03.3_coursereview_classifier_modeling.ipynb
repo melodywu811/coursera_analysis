{
 "cells": [
  {
   "cell_type": "markdown",
   "id": "comprehensive-split",
   "metadata": {},
   "source": [
    "## 3.3 Course Review Classifier Modeling\n",
    "\n",
    "This notebook demonstrate the machine learning models classifying good reviews and bad reviews using the review textual data as input."
   ]
  },
  {
   "cell_type": "markdown",
   "id": "relative-underground",
   "metadata": {},
   "source": [
    "### Import basic libraries"
   ]
  },
  {
   "cell_type": "code",
   "execution_count": 1,
   "id": "personalized-walter",
   "metadata": {},
   "outputs": [],
   "source": [
    "# the basics\n",
    "import pandas as pd\n",
    "import numpy as np\n",
    "import matplotlib.pyplot as plt\n",
    "import seaborn as sns\n",
    "\n",
    "pd.options.display.max_colwidth = 350"
   ]
  },
  {
   "cell_type": "code",
   "execution_count": 2,
   "id": "exempt-entrepreneur",
   "metadata": {},
   "outputs": [],
   "source": [
    "#import preprocessing and metrics\n",
    "from sklearn.preprocessing import StandardScaler\n",
    "from sklearn.model_selection import train_test_split, cross_val_score, GridSearchCV\n",
    "from sklearn import metrics\n",
    "from sklearn.pipeline import Pipeline"
   ]
  },
  {
   "cell_type": "code",
   "execution_count": 3,
   "id": "coastal-assets",
   "metadata": {},
   "outputs": [],
   "source": [
    "# import modeling\n",
    "from sklearn.linear_model import LogisticRegression\n",
    "from sklearn.neighbors import KNeighborsClassifier\n",
    "from sklearn.ensemble import RandomForestClassifier\n",
    "from sklearn.tree import DecisionTreeClassifier\n",
    "from sklearn.ensemble import AdaBoostClassifier\n",
    "from sklearn.svm import SVC\n",
    "from xgboost import XGBClassifier"
   ]
  },
  {
   "cell_type": "markdown",
   "id": "played-princess",
   "metadata": {},
   "source": [
    "### Import data"
   ]
  },
  {
   "cell_type": "code",
   "execution_count": 4,
   "id": "applicable-broadcast",
   "metadata": {},
   "outputs": [],
   "source": [
    "# the data is scraped from Coursera.org using the codes from notebook 01.1\n",
    "path = '../data/reviews_ml_modeling.csv'\n",
    "reviews = pd.read_csv(path)"
   ]
  },
  {
   "cell_type": "code",
   "execution_count": 5,
   "id": "protected-camera",
   "metadata": {},
   "outputs": [],
   "source": [
    "# quick pre-processing, dropping columns and remove rows with null values\n",
    "reviews.drop(columns=['Unnamed: 0'], inplace=True)\n",
    "reviews.dropna(inplace=True)"
   ]
  },
  {
   "cell_type": "code",
   "execution_count": 6,
   "id": "public-explanation",
   "metadata": {},
   "outputs": [],
   "source": [
    "# reviews.shape"
   ]
  },
  {
   "cell_type": "code",
   "execution_count": 7,
   "id": "enhanced-eleven",
   "metadata": {},
   "outputs": [],
   "source": [
    "# reviews.head(1)"
   ]
  },
  {
   "cell_type": "markdown",
   "id": "supreme-honduras",
   "metadata": {},
   "source": [
    "### Preliminary Modeling"
   ]
  },
  {
   "cell_type": "code",
   "execution_count": 8,
   "id": "fuzzy-visibility",
   "metadata": {},
   "outputs": [],
   "source": [
    "from sklearn.metrics import roc_curve, auc, roc_auc_score"
   ]
  },
  {
   "cell_type": "markdown",
   "id": "abandoned-shooting",
   "metadata": {},
   "source": [
    "#### Setting up X and y"
   ]
  },
  {
   "cell_type": "code",
   "execution_count": 9,
   "id": "legislative-ghost",
   "metadata": {},
   "outputs": [],
   "source": [
    "# feature selection\n",
    "ignore_cols = ['review', 'date_of_review', 'rating', 'course_href', 'review_is_bad', 'review_clean']\n",
    "features = [c for c in reviews.columns if c not in ignore_cols]"
   ]
  },
  {
   "cell_type": "code",
   "execution_count": 10,
   "id": "adapted-brick",
   "metadata": {},
   "outputs": [],
   "source": [
    "X = reviews[features]\n",
    "y = reviews['review_is_bad']\n",
    "\n",
    "X_train, X_test, y_train, y_test = train_test_split(X, y, random_state = 42)"
   ]
  },
  {
   "cell_type": "code",
   "execution_count": 11,
   "id": "refined-lambda",
   "metadata": {},
   "outputs": [
    {
     "data": {
      "text/plain": [
       "0    0.968687\n",
       "1    0.031313\n",
       "Name: review_is_bad, dtype: float64"
      ]
     },
     "execution_count": 11,
     "metadata": {},
     "output_type": "execute_result"
    }
   ],
   "source": [
    "# baseline\n",
    "y.value_counts(normalize=True)"
   ]
  },
  {
   "cell_type": "code",
   "execution_count": 12,
   "id": "casual-contamination",
   "metadata": {},
   "outputs": [],
   "source": [
    "# Set up a list to contain pipelines\n",
    "pipelines = []\n",
    "\n",
    "# Set up tuples for all the models we want to test\n",
    "models = [('logic', LogisticRegression(solver='liblinear')),\n",
    "         ('dtr', DecisionTreeClassifier()),\n",
    "         ('rfr', RandomForestClassifier())]\n",
    "\n",
    "# Set up pipelines for all the models alone and with StandardScaler\n",
    "for model in models:\n",
    "    pipelines.append(Pipeline([('ss', StandardScaler()),\n",
    "                              model]))"
   ]
  },
  {
   "cell_type": "code",
   "execution_count": 13,
   "id": "juvenile-impossible",
   "metadata": {},
   "outputs": [],
   "source": [
    "# this function takes a list of pipelines and return their R2 and RMSE scores \n",
    "def pipe_evaluations(pipelines):\n",
    "    evaluations = []\n",
    "\n",
    "# Loop through and fit all the pipelines\n",
    "    for pipe in pipelines:\n",
    "        pipe.fit(X_train, y_train)\n",
    "\n",
    "        evaluations.append({\n",
    "            'Pipeline': [step[0] for step in pipe.steps],\n",
    "            'Accuracy (train)': pipe.score(X_train, y_train),\n",
    "            'Accuracy (test)': pipe.score(X_test, y_test)\n",
    "        })\n",
    "\n",
    "    # add evaluation metrics to a dataframe\n",
    "    evaluations_df = pd.DataFrame(evaluations)\n",
    "    return evaluations_df"
   ]
  },
  {
   "cell_type": "code",
   "execution_count": 14,
   "id": "uniform-submission",
   "metadata": {},
   "outputs": [
    {
     "data": {
      "text/html": [
       "<div>\n",
       "<style scoped>\n",
       "    .dataframe tbody tr th:only-of-type {\n",
       "        vertical-align: middle;\n",
       "    }\n",
       "\n",
       "    .dataframe tbody tr th {\n",
       "        vertical-align: top;\n",
       "    }\n",
       "\n",
       "    .dataframe thead th {\n",
       "        text-align: right;\n",
       "    }\n",
       "</style>\n",
       "<table border=\"1\" class=\"dataframe\">\n",
       "  <thead>\n",
       "    <tr style=\"text-align: right;\">\n",
       "      <th></th>\n",
       "      <th>Pipeline</th>\n",
       "      <th>Accuracy (train)</th>\n",
       "      <th>Accuracy (test)</th>\n",
       "    </tr>\n",
       "  </thead>\n",
       "  <tbody>\n",
       "    <tr>\n",
       "      <th>0</th>\n",
       "      <td>[ss, logic]</td>\n",
       "      <td>0.997721</td>\n",
       "      <td>0.937850</td>\n",
       "    </tr>\n",
       "    <tr>\n",
       "      <th>1</th>\n",
       "      <td>[ss, dtr]</td>\n",
       "      <td>1.000000</td>\n",
       "      <td>0.949347</td>\n",
       "    </tr>\n",
       "    <tr>\n",
       "      <th>2</th>\n",
       "      <td>[ss, rfr]</td>\n",
       "      <td>1.000000</td>\n",
       "      <td>0.967371</td>\n",
       "    </tr>\n",
       "  </tbody>\n",
       "</table>\n",
       "</div>"
      ],
      "text/plain": [
       "      Pipeline  Accuracy (train)  Accuracy (test)\n",
       "0  [ss, logic]          0.997721         0.937850\n",
       "1    [ss, dtr]          1.000000         0.949347\n",
       "2    [ss, rfr]          1.000000         0.967371"
      ]
     },
     "execution_count": 14,
     "metadata": {},
     "output_type": "execute_result"
    }
   ],
   "source": [
    "# evaluation the pipelines\n",
    "pipe_evaluations(pipelines)"
   ]
  },
  {
   "cell_type": "code",
   "execution_count": 15,
   "id": "corporate-incidence",
   "metadata": {},
   "outputs": [],
   "source": [
    "# # check dtypes \n",
    "# for each in X.columns:\n",
    "#     if reviews[each].dtypes == 'float64':\n",
    "#         print(each)"
   ]
  },
  {
   "cell_type": "markdown",
   "id": "latin-medicare",
   "metadata": {},
   "source": [
    "**Key Takeaway:** the model performance is not out-performing the baseline (the majority class), other techniques are needed for improve the model performance. Nonetheless, I continue with GridSearch to explore whether tuning the hyperparamether can improve the model performance and further understand the important features used in the random forest classifier to understand the problem more."
   ]
  },
  {
   "cell_type": "markdown",
   "id": "transsexual-subdivision",
   "metadata": {},
   "source": [
    "#### Tuning Random Forest"
   ]
  },
  {
   "cell_type": "code",
   "execution_count": 16,
   "id": "every-notification",
   "metadata": {},
   "outputs": [
    {
     "data": {
      "text/plain": [
       "(1.0, 0.9676817899316346)"
      ]
     },
     "execution_count": 16,
     "metadata": {},
     "output_type": "execute_result"
    }
   ],
   "source": [
    "# without tuning\n",
    "pipe = Pipeline([('ss', StandardScaler()),\n",
    "                  ('rfc', RandomForestClassifier())])\n",
    "\n",
    "pipe.fit(X_train, y_train)\n",
    "pipe.score(X_train, y_train), pipe.score(X_test, y_test)"
   ]
  },
  {
   "cell_type": "code",
   "execution_count": 17,
   "id": "thirty-congress",
   "metadata": {},
   "outputs": [
    {
     "name": "stdout",
     "output_type": "stream",
     "text": [
      "Pipeline(steps=[('ss', StandardScaler()),\n",
      "                ('rfc',\n",
      "                 RandomForestClassifier(max_depth=20, min_samples_leaf=2))])\n",
      "\n",
      "0.9699544135930377 0.9658172778123058\n"
     ]
    }
   ],
   "source": [
    "# set up the pipe\n",
    "pipe = Pipeline([('ss', StandardScaler()),\n",
    "                  ('rfc', RandomForestClassifier())])\n",
    "\n",
    "# Create dictionary with candidate learning algorithms and their hyperparameters\n",
    "grid_param = [{'rfc__n_estimators':[100, 200],\n",
    "               'rfc__max_depth':[10,15,20],\n",
    "               'rfc__min_samples_leaf': [1,2,3]}]\n",
    "\n",
    "# create a gridsearch of the pipeline, and fit the best model\n",
    "gridsearch = GridSearchCV(pipe, grid_param, cv=5) \n",
    "best_model = gridsearch.fit(X_train,y_train)\n",
    "\n",
    "# print metrics\n",
    "print(best_model.best_estimator_)\n",
    "print('')\n",
    "print(best_model.score(X_train, y_train), best_model.score(X_test, y_test))"
   ]
  },
  {
   "cell_type": "code",
   "execution_count": 18,
   "id": "announced-farming",
   "metadata": {},
   "outputs": [
    {
     "data": {
      "text/plain": [
       "(0.9696435971819312, 0.9658172778123058)"
      ]
     },
     "execution_count": 18,
     "metadata": {},
     "output_type": "execute_result"
    }
   ],
   "source": [
    "# train a random forest classifier\n",
    "rfc = RandomForestClassifier(n_estimators = 100, max_depth=10, random_state = 42)\n",
    "rfc.fit(X_train, y_train)\n",
    "rfc.score(X_train, y_train), rfc.score(X_test, y_test)"
   ]
  },
  {
   "cell_type": "code",
   "execution_count": 19,
   "id": "warming-douglas",
   "metadata": {},
   "outputs": [
    {
     "data": {
      "text/html": [
       "<div>\n",
       "<style scoped>\n",
       "    .dataframe tbody tr th:only-of-type {\n",
       "        vertical-align: middle;\n",
       "    }\n",
       "\n",
       "    .dataframe tbody tr th {\n",
       "        vertical-align: top;\n",
       "    }\n",
       "\n",
       "    .dataframe thead th {\n",
       "        text-align: right;\n",
       "    }\n",
       "</style>\n",
       "<table border=\"1\" class=\"dataframe\">\n",
       "  <thead>\n",
       "    <tr style=\"text-align: right;\">\n",
       "      <th></th>\n",
       "      <th>feature</th>\n",
       "      <th>importance</th>\n",
       "    </tr>\n",
       "  </thead>\n",
       "  <tbody>\n",
       "    <tr>\n",
       "      <th>5</th>\n",
       "      <td>compound</td>\n",
       "      <td>0.064866</td>\n",
       "    </tr>\n",
       "    <tr>\n",
       "      <th>2</th>\n",
       "      <td>neg</td>\n",
       "      <td>0.061331</td>\n",
       "    </tr>\n",
       "    <tr>\n",
       "      <th>0</th>\n",
       "      <td>nb_chars</td>\n",
       "      <td>0.032072</td>\n",
       "    </tr>\n",
       "    <tr>\n",
       "      <th>4</th>\n",
       "      <td>pos</td>\n",
       "      <td>0.028617</td>\n",
       "    </tr>\n",
       "    <tr>\n",
       "      <th>3</th>\n",
       "      <td>neu</td>\n",
       "      <td>0.023913</td>\n",
       "    </tr>\n",
       "    <tr>\n",
       "      <th>1</th>\n",
       "      <td>nb_words</td>\n",
       "      <td>0.021159</td>\n",
       "    </tr>\n",
       "    <tr>\n",
       "      <th>1376</th>\n",
       "      <td>word_old</td>\n",
       "      <td>0.019302</td>\n",
       "    </tr>\n",
       "    <tr>\n",
       "      <th>1496</th>\n",
       "      <td>word_poor</td>\n",
       "      <td>0.016007</td>\n",
       "    </tr>\n",
       "    <tr>\n",
       "      <th>6</th>\n",
       "      <td>doc2vec_vector_0</td>\n",
       "      <td>0.014745</td>\n",
       "    </tr>\n",
       "    <tr>\n",
       "      <th>171</th>\n",
       "      <td>word_audio</td>\n",
       "      <td>0.012969</td>\n",
       "    </tr>\n",
       "  </tbody>\n",
       "</table>\n",
       "</div>"
      ],
      "text/plain": [
       "               feature  importance\n",
       "5             compound    0.064866\n",
       "2                  neg    0.061331\n",
       "0             nb_chars    0.032072\n",
       "4                  pos    0.028617\n",
       "3                  neu    0.023913\n",
       "1             nb_words    0.021159\n",
       "1376          word_old    0.019302\n",
       "1496         word_poor    0.016007\n",
       "6     doc2vec_vector_0    0.014745\n",
       "171         word_audio    0.012969"
      ]
     },
     "execution_count": 19,
     "metadata": {},
     "output_type": "execute_result"
    }
   ],
   "source": [
    "# show feature importance\n",
    "feature_importances_df = pd.DataFrame({\"feature\": features, \n",
    "                                       \"importance\": rfc.feature_importances_}).sort_values(\"importance\", \n",
    "                                        ascending = False)\n",
    "feature_importances_df.head(10)"
   ]
  },
  {
   "cell_type": "code",
   "execution_count": 20,
   "id": "wireless-solomon",
   "metadata": {},
   "outputs": [
    {
     "data": {
      "image/png": "[encoded data removed]",
      "text/plain": [
       "<Figure size 864x576 with 1 Axes>"
      ]
     },
     "metadata": {
      "needs_background": "light"
     },
     "output_type": "display_data"
    }
   ],
   "source": [
    "# ROC curve\n",
    "y_pred = [x[1] for x in rfc.predict_proba(X_test)]\n",
    "fpr, tpr, thresholds = roc_curve(y_test, y_pred, pos_label = 1)\n",
    "\n",
    "roc_auc = auc(fpr, tpr)\n",
    "\n",
    "plt.figure(1, figsize = (12, 8))\n",
    "lw = 2\n",
    "plt.plot(fpr, tpr, color='darkorange',\n",
    "         lw=lw, label='ROC curve (area = %0.2f)' % roc_auc)\n",
    "plt.plot([0, 1], [0, 1], lw=lw, linestyle='--')\n",
    "plt.xlim([0.0, 1.0])\n",
    "plt.ylim([0.0, 1.0])\n",
    "plt.xlabel('False Positive Rate')\n",
    "plt.ylabel('True Positive Rate')\n",
    "plt.title('Receiver operating characteristic example')\n",
    "plt.legend(loc=\"lower right\")\n",
    "plt.show()"
   ]
  },
  {
   "cell_type": "markdown",
   "id": "concrete-lighting",
   "metadata": {},
   "source": [
    "**Key takeways:** based on the ROC curve, the model performance is acceptable. "
   ]
  },
  {
   "cell_type": "markdown",
   "id": "utility-decade",
   "metadata": {},
   "source": [
    "#### Logistic Regression"
   ]
  },
  {
   "cell_type": "code",
   "execution_count": 21,
   "id": "restricted-jenny",
   "metadata": {},
   "outputs": [
    {
     "data": {
      "text/plain": [
       "(0.9974098632407791, 0.9577377252952144)"
      ]
     },
     "execution_count": 21,
     "metadata": {},
     "output_type": "execute_result"
    }
   ],
   "source": [
    "# without tuning\n",
    "pipe = Pipeline([('ss', StandardScaler()),\n",
    "                  ('logic', LogisticRegression(solver='liblinear', penalty='l1'))])\n",
    "\n",
    "pipe.fit(X_train, y_train)\n",
    "pipe.score(X_train, y_train), pipe.score(X_test, y_test)"
   ]
  },
  {
   "cell_type": "code",
   "execution_count": 22,
   "id": "aggressive-senator",
   "metadata": {},
   "outputs": [
    {
     "name": "stdout",
     "output_type": "stream",
     "text": [
      "Pipeline(steps=[('ss', StandardScaler()),\n",
      "                ('logic',\n",
      "                 LogisticRegression(C=0.1, penalty='l1', solver='liblinear'))])\n",
      "\n",
      "0.9840447575631993 0.9670602858918583\n"
     ]
    }
   ],
   "source": [
    "# set up the pipe\n",
    "pipe = Pipeline([('ss', StandardScaler()),\n",
    "                 ('logic', LogisticRegression(solver='liblinear', penalty='l1'))])\n",
    "\n",
    "# Create dictionary with candidate learning algorithms and their hyperparameters\n",
    "grid_param = [{'logic__C':[0.1, 0.5, 1]}]\n",
    "\n",
    "# create a gridsearch of the pipeline, and fit the best model\n",
    "gridsearch = GridSearchCV(pipe, grid_param, cv=5) \n",
    "best_model = gridsearch.fit(X_train,y_train)\n",
    "\n",
    "# print metrics\n",
    "print(best_model.best_estimator_)\n",
    "print('')\n",
    "print(best_model.score(X_train, y_train), best_model.score(X_test, y_test))"
   ]
  },
  {
   "cell_type": "code",
   "execution_count": 34,
   "id": "chubby-velvet",
   "metadata": {},
   "outputs": [
    {
     "name": "stdout",
     "output_type": "stream",
     "text": [
      "Accuracy Rate (train): 0.9698508081226689, Accuracy Rate (test): 0.9670602858918583\n",
      "\n"
     ]
    },
    {
     "data": {
      "image/png": "[encoded data removed]",
      "text/plain": [
       "<Figure size 432x288 with 2 Axes>"
      ]
     },
     "metadata": {
      "needs_background": "light"
     },
     "output_type": "display_data"
    }
   ],
   "source": [
    "logic = LogisticRegression(solver='liblinear', penalty='l1', C=0.1)\n",
    "logic.fit(X_train,y_train)\n",
    "print(f'Accuracy Rate (train): {logic.score(X_train, y_train)}, Accuracy Rate (test): {logic.score(X_test, y_test)}')\n",
    "print('')\n",
    "metrics.plot_confusion_matrix(logic, X_test, y_test, cmap='Blues', \n",
    "                              values_format='d', display_labels=['Good Reviews', 'Bad Reviews']);"
   ]
  },
  {
   "cell_type": "code",
   "execution_count": 37,
   "id": "right-moses",
   "metadata": {},
   "outputs": [
    {
     "name": "stdout",
     "output_type": "stream",
     "text": [
      "              precision    recall  f1-score   support\n",
      "\n",
      "           0       0.97      1.00      0.98      3108\n",
      "           1       0.60      0.11      0.18       110\n",
      "\n",
      "    accuracy                           0.97      3218\n",
      "   macro avg       0.78      0.55      0.58      3218\n",
      "weighted avg       0.96      0.97      0.96      3218\n",
      "\n"
     ]
    }
   ],
   "source": [
    "y_true = y_test\n",
    "y_pred = logic.predict(X_test)\n",
    "print(metrics.classification_report(y_true, y_pred))"
   ]
  },
  {
   "cell_type": "code",
   "execution_count": 38,
   "id": "broadband-craft",
   "metadata": {},
   "outputs": [
    {
     "data": {
      "text/html": [
       "<div>\n",
       "<style scoped>\n",
       "    .dataframe tbody tr th:only-of-type {\n",
       "        vertical-align: middle;\n",
       "    }\n",
       "\n",
       "    .dataframe tbody tr th {\n",
       "        vertical-align: top;\n",
       "    }\n",
       "\n",
       "    .dataframe thead th {\n",
       "        text-align: right;\n",
       "    }\n",
       "</style>\n",
       "<table border=\"1\" class=\"dataframe\">\n",
       "  <thead>\n",
       "    <tr style=\"text-align: right;\">\n",
       "      <th></th>\n",
       "      <th>review</th>\n",
       "      <th>true_label</th>\n",
       "      <th>predicted_label</th>\n",
       "    </tr>\n",
       "  </thead>\n",
       "  <tbody>\n",
       "    <tr>\n",
       "      <th>8</th>\n",
       "      <td>Been asked to re-take all assignments *after* paying for a certificate! I wil never pay for a Coursera course again, and I would not recommend my friends to do so</td>\n",
       "      <td>1</td>\n",
       "      <td>0</td>\n",
       "    </tr>\n",
       "    <tr>\n",
       "      <th>304</th>\n",
       "      <td>Course content was good but i felt few lectures were too boring to constantly concentrate on.</td>\n",
       "      <td>1</td>\n",
       "      <td>0</td>\n",
       "    </tr>\n",
       "    <tr>\n",
       "      <th>47</th>\n",
       "      <td>falta una mejor traducción en los videos ;además que las pruebas y tareas debiesen también debiesen ser traducidos, más al tratarse de lenguaje específico</td>\n",
       "      <td>1</td>\n",
       "      <td>0</td>\n",
       "    </tr>\n",
       "    <tr>\n",
       "      <th>400</th>\n",
       "      <td>Good</td>\n",
       "      <td>1</td>\n",
       "      <td>0</td>\n",
       "    </tr>\n",
       "    <tr>\n",
       "      <th>386</th>\n",
       "      <td>too academical</td>\n",
       "      <td>1</td>\n",
       "      <td>0</td>\n",
       "    </tr>\n",
       "    <tr>\n",
       "      <th>361</th>\n",
       "      <td>Needs improvement on Matlab help\\n\\n</td>\n",
       "      <td>1</td>\n",
       "      <td>0</td>\n",
       "    </tr>\n",
       "    <tr>\n",
       "      <th>181</th>\n",
       "      <td>Good overview of machine learning. In general focuses more on how to do, but due to course length skipped on some of the how or why in certain topics. Good mentor responses. Lecture video pause points are bugged. Lecture and assignments are quite detailed to walk you through it. Course content not designed to be difficult. Weeks are not very ba...</td>\n",
       "      <td>1</td>\n",
       "      <td>0</td>\n",
       "    </tr>\n",
       "    <tr>\n",
       "      <th>290</th>\n",
       "      <td>A little bit too much math heavy, very theoretical. Nevertheless interesting and great to learn the fundamentals of ML</td>\n",
       "      <td>1</td>\n",
       "      <td>0</td>\n",
       "    </tr>\n",
       "    <tr>\n",
       "      <th>354</th>\n",
       "      <td>The content is useful, but too verbose.</td>\n",
       "      <td>1</td>\n",
       "      <td>0</td>\n",
       "    </tr>\n",
       "    <tr>\n",
       "      <th>311</th>\n",
       "      <td>The course feels a bit outdated, but if you're learning fundamentals, it may be useful.</td>\n",
       "      <td>1</td>\n",
       "      <td>0</td>\n",
       "    </tr>\n",
       "  </tbody>\n",
       "</table>\n",
       "</div>"
      ],
      "text/plain": [
       "                                                                                                                                                                                                                                                                                                                                                            review  \\\n",
       "8                                                                                                                                                                                               Been asked to re-take all assignments *after* paying for a certificate! I wil never pay for a Coursera course again, and I would not recommend my friends to do so   \n",
       "304                                                                                                                                                                                                                                                                  Course content was good but i felt few lectures were too boring to constantly concentrate on.   \n",
       "47                                                                                                                                                                                                     falta una mejor traducción en los videos ;además que las pruebas y tareas debiesen también debiesen ser traducidos, más al tratarse de lenguaje específico    \n",
       "400                                                                                                                                                                                                                                                                                                                                                          Good    \n",
       "386                                                                                                                                                                                                                                                                                                                                                too academical    \n",
       "361                                                                                                                                                                                                                                                                                                                           Needs improvement on Matlab help\\n\\n   \n",
       "181  Good overview of machine learning. In general focuses more on how to do, but due to course length skipped on some of the how or why in certain topics. Good mentor responses. Lecture video pause points are bugged. Lecture and assignments are quite detailed to walk you through it. Course content not designed to be difficult. Weeks are not very ba...   \n",
       "290                                                                                                                                                                                                                                         A little bit too much math heavy, very theoretical. Nevertheless interesting and great to learn the fundamentals of ML   \n",
       "354                                                                                                                                                                                                                                                                                                                        The content is useful, but too verbose.   \n",
       "311                                                                                                                                                                                                                                                                        The course feels a bit outdated, but if you're learning fundamentals, it may be useful.   \n",
       "\n",
       "     true_label  predicted_label  \n",
       "8             1                0  \n",
       "304           1                0  \n",
       "47            1                0  \n",
       "400           1                0  \n",
       "386           1                0  \n",
       "361           1                0  \n",
       "181           1                0  \n",
       "290           1                0  \n",
       "354           1                0  \n",
       "311           1                0  "
      ]
     },
     "execution_count": 38,
     "metadata": {},
     "output_type": "execute_result"
    }
   ],
   "source": [
    "# Misclassification Analysis(ACA)\n",
    "mca_df = reviews.filter(X_test.index, axis=0)\n",
    "mca_df['true_label'] = y_test\n",
    "mca_df['predicted_label'] = logic.predict(X_test)\n",
    "mca_df[(mca_df['true_label']==1)&(mca_df['predicted_label']==0)][['review','true_label','predicted_label']].head(10)"
   ]
  },
  {
   "cell_type": "code",
   "execution_count": 39,
   "id": "certified-provincial",
   "metadata": {},
   "outputs": [],
   "source": [
    "y_pred = logic.predict(X_test)"
   ]
  },
  {
   "cell_type": "code",
   "execution_count": 40,
   "id": "reflected-jersey",
   "metadata": {},
   "outputs": [
    {
     "data": {
      "text/plain": [
       "array([0, 0, 0, ..., 0, 0, 0])"
      ]
     },
     "execution_count": 40,
     "metadata": {},
     "output_type": "execute_result"
    }
   ],
   "source": [
    "y_pred"
   ]
  },
  {
   "cell_type": "code",
   "execution_count": 41,
   "id": "talented-siemens",
   "metadata": {},
   "outputs": [
    {
     "data": {
      "text/html": [
       "<div>\n",
       "<style scoped>\n",
       "    .dataframe tbody tr th:only-of-type {\n",
       "        vertical-align: middle;\n",
       "    }\n",
       "\n",
       "    .dataframe tbody tr th {\n",
       "        vertical-align: top;\n",
       "    }\n",
       "\n",
       "    .dataframe thead th {\n",
       "        text-align: right;\n",
       "    }\n",
       "</style>\n",
       "<table border=\"1\" class=\"dataframe\">\n",
       "  <thead>\n",
       "    <tr style=\"text-align: right;\">\n",
       "      <th></th>\n",
       "      <th>model_coefficient</th>\n",
       "    </tr>\n",
       "  </thead>\n",
       "  <tbody>\n",
       "    <tr>\n",
       "      <th>nb_chars</th>\n",
       "      <td>-0.006261</td>\n",
       "    </tr>\n",
       "    <tr>\n",
       "      <th>nb_words</th>\n",
       "      <td>0.033036</td>\n",
       "    </tr>\n",
       "    <tr>\n",
       "      <th>neu</th>\n",
       "      <td>-0.370285</td>\n",
       "    </tr>\n",
       "    <tr>\n",
       "      <th>compound</th>\n",
       "      <td>-2.736608</td>\n",
       "    </tr>\n",
       "    <tr>\n",
       "      <th>doc2vec_vector_0</th>\n",
       "      <td>0.536975</td>\n",
       "    </tr>\n",
       "    <tr>\n",
       "      <th>doc2vec_vector_1</th>\n",
       "      <td>1.299594</td>\n",
       "    </tr>\n",
       "    <tr>\n",
       "      <th>doc2vec_vector_2</th>\n",
       "      <td>-0.333712</td>\n",
       "    </tr>\n",
       "    <tr>\n",
       "      <th>doc2vec_vector_4</th>\n",
       "      <td>-0.406326</td>\n",
       "    </tr>\n",
       "  </tbody>\n",
       "</table>\n",
       "</div>"
      ],
      "text/plain": [
       "                  model_coefficient\n",
       "nb_chars                  -0.006261\n",
       "nb_words                   0.033036\n",
       "neu                       -0.370285\n",
       "compound                  -2.736608\n",
       "doc2vec_vector_0           0.536975\n",
       "doc2vec_vector_1           1.299594\n",
       "doc2vec_vector_2          -0.333712\n",
       "doc2vec_vector_4          -0.406326"
      ]
     },
     "execution_count": 41,
     "metadata": {},
     "output_type": "execute_result"
    }
   ],
   "source": [
    "# put the selected features into a DataFrame\n",
    "coefficients = pd.DataFrame(data=logic.coef_[0], index=X_train.columns, columns=['model_coefficient'])\n",
    "\n",
    "# list the features of the non-zero coefficients \n",
    "coefficients[coefficients['model_coefficient']!=0]"
   ]
  },
  {
   "cell_type": "code",
   "execution_count": 42,
   "id": "changed-animation",
   "metadata": {},
   "outputs": [
    {
     "data": {
      "image/png": "[encoded data removed]",
      "text/plain": [
       "<Figure size 864x576 with 1 Axes>"
      ]
     },
     "metadata": {
      "needs_background": "light"
     },
     "output_type": "display_data"
    }
   ],
   "source": [
    "# ROC curve\n",
    "y_pred = [x[1] for x in logic.predict_proba(X_test)]\n",
    "fpr, tpr, thresholds = roc_curve(y_test, y_pred, pos_label = 1)\n",
    "\n",
    "roc_auc = auc(fpr, tpr)\n",
    "\n",
    "plt.figure(1, figsize = (12, 8))\n",
    "lw = 2\n",
    "plt.plot(fpr, tpr, color='darkorange',\n",
    "         lw=lw, label='ROC curve (area = %0.2f)' % roc_auc)\n",
    "plt.plot([0, 1], [0, 1], lw=lw, linestyle='--')\n",
    "plt.xlim([0.0, 1.0])\n",
    "plt.ylim([0.0, 1.0])\n",
    "plt.xlabel('False Positive Rate')\n",
    "plt.ylabel('True Positive Rate')\n",
    "plt.title('Receiver operating characteristic example')\n",
    "plt.legend(loc=\"lower right\")\n",
    "plt.show()"
   ]
  },
  {
   "cell_type": "markdown",
   "id": "applied-hardware",
   "metadata": {},
   "source": [
    "---\n",
    "### Adjusting class imbalance with three basic techniques and modeling with logistic regressions"
   ]
  },
  {
   "cell_type": "code",
   "execution_count": 43,
   "id": "national-tanzania",
   "metadata": {},
   "outputs": [],
   "source": [
    "from imblearn.under_sampling import NearMiss, RandomUnderSampler\n",
    "from imblearn.over_sampling import SMOTE, RandomOverSampler\n",
    "from collections import Counter"
   ]
  },
  {
   "cell_type": "code",
   "execution_count": 44,
   "id": "excessive-corporation",
   "metadata": {},
   "outputs": [],
   "source": [
    "# recall \n",
    "X = reviews[features]\n",
    "y = reviews['review_is_bad']\n",
    "\n",
    "X_train, X_test, y_train, y_test = train_test_split(X, y, random_state = 42)"
   ]
  },
  {
   "cell_type": "code",
   "execution_count": 45,
   "id": "technical-benefit",
   "metadata": {},
   "outputs": [],
   "source": [
    "def print_sampling_stats(X_train_df, X_train_sampled,\n",
    "                         y_train, y_train_sampled,\n",
    "                         y_test):\n",
    "    \n",
    "    print('Original dataset classes: {}'.format(Counter(y_train)))\n",
    "    print('Resampled dataset classes: {}'.format(Counter(y_train_sampled)))\n",
    "    print()\n",
    "    print('Test dataset classes still the same to model real world: {}'.format(Counter(y_test)))\n",
    "\n",
    "    print()\n",
    "    print('X_train shape (under/reg): ', X_train_sampled.shape, X_train.shape)\n",
    "    print('y_train shape (under/reg): ', y_train_sampled.shape, y_train.shape)\n",
    "    print('X_test shape, y_test shape: ', X_test.shape, y_test.shape)"
   ]
  },
  {
   "cell_type": "markdown",
   "id": "healthy-horse",
   "metadata": {},
   "source": [
    "#### Undersample More Frequent Class"
   ]
  },
  {
   "cell_type": "code",
   "execution_count": 46,
   "id": "brief-smell",
   "metadata": {},
   "outputs": [
    {
     "name": "stdout",
     "output_type": "stream",
     "text": [
      "Original dataset classes: Counter({0: 9359, 1: 293})\n",
      "Resampled dataset classes: Counter({0: 293, 1: 293})\n",
      "\n",
      "Test dataset classes still the same to model real world: Counter({0: 3108, 1: 110})\n",
      "\n",
      "X_train shape (under/reg):  (586, 2245) (9652, 2245)\n",
      "y_train shape (under/reg):  (586,) (9652,)\n",
      "X_test shape, y_test shape:  (3218, 2245) (3218,)\n"
     ]
    }
   ],
   "source": [
    "rus = RandomUnderSampler(random_state=42)\n",
    "\n",
    "X_train_under, y_train_under = rus.fit_resample(X_train, y_train)\n",
    "\n",
    "print_sampling_stats(X_train, X_train_under,\n",
    "                     y_train, y_train_under,\n",
    "                     y_test)"
   ]
  },
  {
   "cell_type": "code",
   "execution_count": 47,
   "id": "dental-planner",
   "metadata": {},
   "outputs": [
    {
     "data": {
      "text/plain": [
       "0    0.5\n",
       "1    0.5\n",
       "Name: review_is_bad, dtype: float64"
      ]
     },
     "execution_count": 47,
     "metadata": {},
     "output_type": "execute_result"
    }
   ],
   "source": [
    "y_train_under.value_counts(normalize=True)"
   ]
  },
  {
   "cell_type": "code",
   "execution_count": 48,
   "id": "tight-australia",
   "metadata": {},
   "outputs": [
    {
     "name": "stdout",
     "output_type": "stream",
     "text": [
      "Accuracy Rate (train): 0.8302942395358475, Accuracy Rate (test): 0.8346799254195152\n",
      "\n"
     ]
    },
    {
     "data": {
      "image/png": "[encoded data removed]",
      "text/plain": [
       "<Figure size 432x288 with 2 Axes>"
      ]
     },
     "metadata": {
      "needs_background": "light"
     },
     "output_type": "display_data"
    }
   ],
   "source": [
    "logic = LogisticRegression(solver='liblinear', penalty='l1', C=0.8)\n",
    "logic.fit(X_train_under,y_train_under)\n",
    "print(f'Accuracy Rate (train): {logic.score(X_train, y_train)}, Accuracy Rate (test): {logic.score(X_test, y_test)}')\n",
    "print('')\n",
    "metrics.plot_confusion_matrix(logic, X_test, y_test, cmap='YlGn', \n",
    "                              values_format='d', display_labels=['Good Reviews', 'Bad Reviews']);"
   ]
  },
  {
   "cell_type": "code",
   "execution_count": 50,
   "id": "important-valuation",
   "metadata": {},
   "outputs": [
    {
     "name": "stdout",
     "output_type": "stream",
     "text": [
      "              precision    recall  f1-score   support\n",
      "\n",
      "           0       0.99      0.83      0.91      3108\n",
      "           1       0.15      0.85      0.26       110\n",
      "\n",
      "    accuracy                           0.83      3218\n",
      "   macro avg       0.57      0.84      0.58      3218\n",
      "weighted avg       0.97      0.83      0.88      3218\n",
      "\n"
     ]
    }
   ],
   "source": [
    "y_true = y_test\n",
    "y_pred = logic.predict(X_test)\n",
    "print(metrics.classification_report(y_true, y_pred))"
   ]
  },
  {
   "cell_type": "code",
   "execution_count": 51,
   "id": "similar-beatles",
   "metadata": {},
   "outputs": [
    {
     "data": {
      "text/html": [
       "<div>\n",
       "<style scoped>\n",
       "    .dataframe tbody tr th:only-of-type {\n",
       "        vertical-align: middle;\n",
       "    }\n",
       "\n",
       "    .dataframe tbody tr th {\n",
       "        vertical-align: top;\n",
       "    }\n",
       "\n",
       "    .dataframe thead th {\n",
       "        text-align: right;\n",
       "    }\n",
       "</style>\n",
       "<table border=\"1\" class=\"dataframe\">\n",
       "  <thead>\n",
       "    <tr style=\"text-align: right;\">\n",
       "      <th></th>\n",
       "      <th>model_coefficient</th>\n",
       "    </tr>\n",
       "  </thead>\n",
       "  <tbody>\n",
       "    <tr>\n",
       "      <th>nb_chars</th>\n",
       "      <td>-0.007143</td>\n",
       "    </tr>\n",
       "    <tr>\n",
       "      <th>nb_words</th>\n",
       "      <td>0.047740</td>\n",
       "    </tr>\n",
       "    <tr>\n",
       "      <th>pos</th>\n",
       "      <td>0.120230</td>\n",
       "    </tr>\n",
       "    <tr>\n",
       "      <th>compound</th>\n",
       "      <td>-3.934279</td>\n",
       "    </tr>\n",
       "    <tr>\n",
       "      <th>doc2vec_vector_0</th>\n",
       "      <td>2.256194</td>\n",
       "    </tr>\n",
       "    <tr>\n",
       "      <th>doc2vec_vector_1</th>\n",
       "      <td>2.271797</td>\n",
       "    </tr>\n",
       "    <tr>\n",
       "      <th>doc2vec_vector_2</th>\n",
       "      <td>-1.184143</td>\n",
       "    </tr>\n",
       "    <tr>\n",
       "      <th>doc2vec_vector_3</th>\n",
       "      <td>0.567390</td>\n",
       "    </tr>\n",
       "    <tr>\n",
       "      <th>doc2vec_vector_4</th>\n",
       "      <td>-2.233801</td>\n",
       "    </tr>\n",
       "    <tr>\n",
       "      <th>word_easy</th>\n",
       "      <td>0.624122</td>\n",
       "    </tr>\n",
       "    <tr>\n",
       "      <th>word_experience</th>\n",
       "      <td>-0.040517</td>\n",
       "    </tr>\n",
       "    <tr>\n",
       "      <th>word_good</th>\n",
       "      <td>0.659745</td>\n",
       "    </tr>\n",
       "    <tr>\n",
       "      <th>word_learn</th>\n",
       "      <td>-0.436597</td>\n",
       "    </tr>\n",
       "    <tr>\n",
       "      <th>word_nice</th>\n",
       "      <td>0.180930</td>\n",
       "    </tr>\n",
       "  </tbody>\n",
       "</table>\n",
       "</div>"
      ],
      "text/plain": [
       "                  model_coefficient\n",
       "nb_chars                  -0.007143\n",
       "nb_words                   0.047740\n",
       "pos                        0.120230\n",
       "compound                  -3.934279\n",
       "doc2vec_vector_0           2.256194\n",
       "doc2vec_vector_1           2.271797\n",
       "doc2vec_vector_2          -1.184143\n",
       "doc2vec_vector_3           0.567390\n",
       "doc2vec_vector_4          -2.233801\n",
       "word_easy                  0.624122\n",
       "word_experience           -0.040517\n",
       "word_good                  0.659745\n",
       "word_learn                -0.436597\n",
       "word_nice                  0.180930"
      ]
     },
     "execution_count": 51,
     "metadata": {},
     "output_type": "execute_result"
    }
   ],
   "source": [
    "# put the selected features into a DataFrame\n",
    "coefficients = pd.DataFrame(data=logic.coef_[0], index=X_train.columns, columns=['model_coefficient'])\n",
    "\n",
    "# list the features of the non-zero coefficients \n",
    "coefficients[coefficients['model_coefficient']!=0]"
   ]
  },
  {
   "cell_type": "code",
   "execution_count": 52,
   "id": "ultimate-medication",
   "metadata": {},
   "outputs": [
    {
     "data": {
      "text/html": [
       "<div>\n",
       "<style scoped>\n",
       "    .dataframe tbody tr th:only-of-type {\n",
       "        vertical-align: middle;\n",
       "    }\n",
       "\n",
       "    .dataframe tbody tr th {\n",
       "        vertical-align: top;\n",
       "    }\n",
       "\n",
       "    .dataframe thead th {\n",
       "        text-align: right;\n",
       "    }\n",
       "</style>\n",
       "<table border=\"1\" class=\"dataframe\">\n",
       "  <thead>\n",
       "    <tr style=\"text-align: right;\">\n",
       "      <th></th>\n",
       "      <th>review</th>\n",
       "      <th>true_label</th>\n",
       "      <th>predicted_label</th>\n",
       "    </tr>\n",
       "  </thead>\n",
       "  <tbody>\n",
       "    <tr>\n",
       "      <th>840</th>\n",
       "      <td>A good course so far , it introduces alot the theory about the material , and gives alot of advices on how and when to apply different algorithms  , 4 stars because i think that submitting homeworks should be followed by some sort of explanations or solutions to the problems , even tho homworks are a little bit guided !</td>\n",
       "      <td>0</td>\n",
       "      <td>1</td>\n",
       "    </tr>\n",
       "    <tr>\n",
       "      <th>2341</th>\n",
       "      <td>Good quality, one star taken away for the unsteady volume</td>\n",
       "      <td>0</td>\n",
       "      <td>1</td>\n",
       "    </tr>\n",
       "    <tr>\n",
       "      <th>2120</th>\n",
       "      <td>I would be much better if it would have included the more layman explanation.</td>\n",
       "      <td>0</td>\n",
       "      <td>1</td>\n",
       "    </tr>\n",
       "    <tr>\n",
       "      <th>469</th>\n",
       "      <td>It is hard, without a doubt, and u most probably will take more time to finish each week, than you can think. But I think this is as complete as it gets. DO NOT depend on this course solely. Go on to Khan Academy and other sites, and learn how the maths work. Although I was familiar with calculus and did a lot of it. Keeping up with all the not...</td>\n",
       "      <td>0</td>\n",
       "      <td>1</td>\n",
       "    </tr>\n",
       "    <tr>\n",
       "      <th>451</th>\n",
       "      <td>Excellent course in machine learning. Reviews key methods and applications, and gives both concepts, application examples, as well as actual programming exercises to understand how to actually build such machine learning systems. The discussion groups and tutorials are helpful, and the mentors (Tom Mosche in particular!) are very active in help...</td>\n",
       "      <td>0</td>\n",
       "      <td>1</td>\n",
       "    </tr>\n",
       "    <tr>\n",
       "      <th>2876</th>\n",
       "      <td>VERY GOOD</td>\n",
       "      <td>0</td>\n",
       "      <td>1</td>\n",
       "    </tr>\n",
       "    <tr>\n",
       "      <th>3451</th>\n",
       "      <td>I learned a lot of concepts in an organized and structured manner in this course that I probably would have spent months trying to figure out on my own. Prof. Ng is one of the best teachers I have had, in spite of the fact that this was an online course. Thank you so much for providing these resources for the world to learn from. This is nothin...</td>\n",
       "      <td>0</td>\n",
       "      <td>1</td>\n",
       "    </tr>\n",
       "    <tr>\n",
       "      <th>742</th>\n",
       "      <td>The course works well as an introductory course providing an overview of what machine learning is and what it involves.The instructor is didactic, the activities served to understand the process involved in the programming of machine learning systems. About the tests, I sometimes found the text a little confusing, but maybe it's because I'm not...</td>\n",
       "      <td>0</td>\n",
       "      <td>1</td>\n",
       "    </tr>\n",
       "    <tr>\n",
       "      <th>6442</th>\n",
       "      <td>I have been struggling to initiate Machine learning on my own.I was always fascinated by it but always failed in getting myself into the right framework and mood to learn ML.This course in particular has helped me a lot in understanding and getting into depth of areas of ML.I cannot thank enough Stand ford and Andrew Ng for this wonderful lesson.</td>\n",
       "      <td>0</td>\n",
       "      <td>1</td>\n",
       "    </tr>\n",
       "    <tr>\n",
       "      <th>2771</th>\n",
       "      <td>Very instructional!</td>\n",
       "      <td>0</td>\n",
       "      <td>1</td>\n",
       "    </tr>\n",
       "  </tbody>\n",
       "</table>\n",
       "</div>"
      ],
      "text/plain": [
       "                                                                                                                                                                                                                                                                                                                                                             review  \\\n",
       "840                               A good course so far , it introduces alot the theory about the material , and gives alot of advices on how and when to apply different algorithms  , 4 stars because i think that submitting homeworks should be followed by some sort of explanations or solutions to the problems , even tho homworks are a little bit guided !   \n",
       "2341                                                                                                                                                                                                                                                                                                      Good quality, one star taken away for the unsteady volume   \n",
       "2120                                                                                                                                                                                                                                                                                  I would be much better if it would have included the more layman explanation.   \n",
       "469   It is hard, without a doubt, and u most probably will take more time to finish each week, than you can think. But I think this is as complete as it gets. DO NOT depend on this course solely. Go on to Khan Academy and other sites, and learn how the maths work. Although I was familiar with calculus and did a lot of it. Keeping up with all the not...   \n",
       "451   Excellent course in machine learning. Reviews key methods and applications, and gives both concepts, application examples, as well as actual programming exercises to understand how to actually build such machine learning systems. The discussion groups and tutorials are helpful, and the mentors (Tom Mosche in particular!) are very active in help...   \n",
       "2876                                                                                                                                                                                                                                                                                                                                                      VERY GOOD   \n",
       "3451  I learned a lot of concepts in an organized and structured manner in this course that I probably would have spent months trying to figure out on my own. Prof. Ng is one of the best teachers I have had, in spite of the fact that this was an online course. Thank you so much for providing these resources for the world to learn from. This is nothin...   \n",
       "742   The course works well as an introductory course providing an overview of what machine learning is and what it involves.The instructor is didactic, the activities served to understand the process involved in the programming of machine learning systems. About the tests, I sometimes found the text a little confusing, but maybe it's because I'm not...   \n",
       "6442   I have been struggling to initiate Machine learning on my own.I was always fascinated by it but always failed in getting myself into the right framework and mood to learn ML.This course in particular has helped me a lot in understanding and getting into depth of areas of ML.I cannot thank enough Stand ford and Andrew Ng for this wonderful lesson.   \n",
       "2771                                                                                                                                                                                                                                                                                                                                            Very instructional!   \n",
       "\n",
       "      true_label  predicted_label  \n",
       "840            0                1  \n",
       "2341           0                1  \n",
       "2120           0                1  \n",
       "469            0                1  \n",
       "451            0                1  \n",
       "2876           0                1  \n",
       "3451           0                1  \n",
       "742            0                1  \n",
       "6442           0                1  \n",
       "2771           0                1  "
      ]
     },
     "execution_count": 52,
     "metadata": {},
     "output_type": "execute_result"
    }
   ],
   "source": [
    "# Misclassification Analysis(ACA)\n",
    "mca_df = reviews.filter(X_test.index, axis=0)\n",
    "mca_df['true_label'] = y_test\n",
    "mca_df['predicted_label'] = logic.predict(X_test)\n",
    "mca_df[(mca_df['true_label']==0)&(mca_df['predicted_label']==1)][['review','true_label','predicted_label']].head(10)"
   ]
  },
  {
   "cell_type": "markdown",
   "id": "minimal-georgia",
   "metadata": {},
   "source": [
    "#### Oversample Less Frequent Class"
   ]
  },
  {
   "cell_type": "code",
   "execution_count": 53,
   "id": "meaningful-cookbook",
   "metadata": {},
   "outputs": [
    {
     "name": "stdout",
     "output_type": "stream",
     "text": [
      "Original dataset classes: Counter({0: 9359, 1: 293})\n",
      "Resampled dataset classes: Counter({0: 9359, 1: 9359})\n",
      "\n",
      "Test dataset classes still the same to model real world: Counter({0: 3108, 1: 110})\n",
      "\n",
      "X_train shape (under/reg):  (18718, 2245) (9652, 2245)\n",
      "y_train shape (under/reg):  (18718,) (9652,)\n",
      "X_test shape, y_test shape:  (3218, 2245) (3218,)\n"
     ]
    }
   ],
   "source": [
    "ros = RandomOverSampler(random_state=42)\n",
    "\n",
    "X_train_over, y_train_over = ros.fit_resample(X_train, y_train)\n",
    "\n",
    "print_sampling_stats(X_train, X_train_over,\n",
    "                     y_train, y_train_over,\n",
    "                     y_test)"
   ]
  },
  {
   "cell_type": "code",
   "execution_count": 54,
   "id": "obvious-musician",
   "metadata": {},
   "outputs": [
    {
     "data": {
      "text/plain": [
       "0    0.5\n",
       "1    0.5\n",
       "Name: review_is_bad, dtype: float64"
      ]
     },
     "execution_count": 54,
     "metadata": {},
     "output_type": "execute_result"
    }
   ],
   "source": [
    "y_train_over.value_counts(normalize=True)"
   ]
  },
  {
   "cell_type": "code",
   "execution_count": 55,
   "id": "declared-lawyer",
   "metadata": {},
   "outputs": [
    {
     "name": "stdout",
     "output_type": "stream",
     "text": [
      "Accuracy Rate (train): 0.8439701616245338, Accuracy Rate (test): 0.8492852703542573\n",
      "\n"
     ]
    },
    {
     "data": {
      "image/png": "[encoded data removed]",
      "text/plain": [
       "<Figure size 432x288 with 2 Axes>"
      ]
     },
     "metadata": {
      "needs_background": "light"
     },
     "output_type": "display_data"
    }
   ],
   "source": [
    "logic = LogisticRegression(solver='liblinear', penalty='l1', C=0.03)\n",
    "logic.fit(X_train_over,y_train_over)\n",
    "print(f'Accuracy Rate (train): {logic.score(X_train, y_train)}, Accuracy Rate (test): {logic.score(X_test, y_test)}')\n",
    "print('')\n",
    "metrics.plot_confusion_matrix(logic, X_test, y_test, cmap='YlGnBu', \n",
    "                              values_format='d', display_labels=['Good Reviews', 'Bad Reviews']);"
   ]
  },
  {
   "cell_type": "code",
   "execution_count": 57,
   "id": "oriental-following",
   "metadata": {},
   "outputs": [
    {
     "name": "stdout",
     "output_type": "stream",
     "text": [
      "              precision    recall  f1-score   support\n",
      "\n",
      "           0       0.99      0.85      0.92      3108\n",
      "           1       0.17      0.85      0.28       110\n",
      "\n",
      "    accuracy                           0.85      3218\n",
      "   macro avg       0.58      0.85      0.60      3218\n",
      "weighted avg       0.97      0.85      0.89      3218\n",
      "\n"
     ]
    }
   ],
   "source": [
    "y_true = y_test\n",
    "y_pred = logic.predict(X_test)\n",
    "print(metrics.classification_report(y_true, y_pred))"
   ]
  },
  {
   "cell_type": "code",
   "execution_count": 58,
   "id": "posted-wiring",
   "metadata": {},
   "outputs": [
    {
     "data": {
      "text/html": [
       "<div>\n",
       "<style scoped>\n",
       "    .dataframe tbody tr th:only-of-type {\n",
       "        vertical-align: middle;\n",
       "    }\n",
       "\n",
       "    .dataframe tbody tr th {\n",
       "        vertical-align: top;\n",
       "    }\n",
       "\n",
       "    .dataframe thead th {\n",
       "        text-align: right;\n",
       "    }\n",
       "</style>\n",
       "<table border=\"1\" class=\"dataframe\">\n",
       "  <thead>\n",
       "    <tr style=\"text-align: right;\">\n",
       "      <th></th>\n",
       "      <th>model_coefficient</th>\n",
       "    </tr>\n",
       "  </thead>\n",
       "  <tbody>\n",
       "    <tr>\n",
       "      <th>nb_chars</th>\n",
       "      <td>-0.006584</td>\n",
       "    </tr>\n",
       "    <tr>\n",
       "      <th>nb_words</th>\n",
       "      <td>0.040079</td>\n",
       "    </tr>\n",
       "    <tr>\n",
       "      <th>compound</th>\n",
       "      <td>-3.194847</td>\n",
       "    </tr>\n",
       "    <tr>\n",
       "      <th>doc2vec_vector_0</th>\n",
       "      <td>1.741210</td>\n",
       "    </tr>\n",
       "    <tr>\n",
       "      <th>doc2vec_vector_1</th>\n",
       "      <td>1.799626</td>\n",
       "    </tr>\n",
       "    <tr>\n",
       "      <th>doc2vec_vector_2</th>\n",
       "      <td>-0.755671</td>\n",
       "    </tr>\n",
       "    <tr>\n",
       "      <th>doc2vec_vector_3</th>\n",
       "      <td>0.595323</td>\n",
       "    </tr>\n",
       "    <tr>\n",
       "      <th>doc2vec_vector_4</th>\n",
       "      <td>-1.824314</td>\n",
       "    </tr>\n",
       "    <tr>\n",
       "      <th>word_andrew</th>\n",
       "      <td>-1.032355</td>\n",
       "    </tr>\n",
       "    <tr>\n",
       "      <th>word_concept</th>\n",
       "      <td>-0.523176</td>\n",
       "    </tr>\n",
       "    <tr>\n",
       "      <th>word_easy</th>\n",
       "      <td>0.415028</td>\n",
       "    </tr>\n",
       "    <tr>\n",
       "      <th>word_good</th>\n",
       "      <td>2.055711</td>\n",
       "    </tr>\n",
       "    <tr>\n",
       "      <th>word_however</th>\n",
       "      <td>0.592654</td>\n",
       "    </tr>\n",
       "    <tr>\n",
       "      <th>word_learn</th>\n",
       "      <td>-1.910564</td>\n",
       "    </tr>\n",
       "    <tr>\n",
       "      <th>word_machine</th>\n",
       "      <td>-0.331257</td>\n",
       "    </tr>\n",
       "    <tr>\n",
       "      <th>word_old</th>\n",
       "      <td>0.031675</td>\n",
       "    </tr>\n",
       "    <tr>\n",
       "      <th>word_python</th>\n",
       "      <td>0.305336</td>\n",
       "    </tr>\n",
       "    <tr>\n",
       "      <th>word_would</th>\n",
       "      <td>0.340726</td>\n",
       "    </tr>\n",
       "  </tbody>\n",
       "</table>\n",
       "</div>"
      ],
      "text/plain": [
       "                  model_coefficient\n",
       "nb_chars                  -0.006584\n",
       "nb_words                   0.040079\n",
       "compound                  -3.194847\n",
       "doc2vec_vector_0           1.741210\n",
       "doc2vec_vector_1           1.799626\n",
       "doc2vec_vector_2          -0.755671\n",
       "doc2vec_vector_3           0.595323\n",
       "doc2vec_vector_4          -1.824314\n",
       "word_andrew               -1.032355\n",
       "word_concept              -0.523176\n",
       "word_easy                  0.415028\n",
       "word_good                  2.055711\n",
       "word_however               0.592654\n",
       "word_learn                -1.910564\n",
       "word_machine              -0.331257\n",
       "word_old                   0.031675\n",
       "word_python                0.305336\n",
       "word_would                 0.340726"
      ]
     },
     "execution_count": 58,
     "metadata": {},
     "output_type": "execute_result"
    }
   ],
   "source": [
    "# put the selected features into a DataFrame\n",
    "coefficients = pd.DataFrame(data=logic.coef_[0], index=X_train.columns, columns=['model_coefficient'])\n",
    "\n",
    "# list the features of the non-zero coefficients \n",
    "coefficients[coefficients['model_coefficient']!=0]"
   ]
  },
  {
   "cell_type": "code",
   "execution_count": 59,
   "id": "attractive-wages",
   "metadata": {},
   "outputs": [
    {
     "data": {
      "text/html": [
       "<div>\n",
       "<style scoped>\n",
       "    .dataframe tbody tr th:only-of-type {\n",
       "        vertical-align: middle;\n",
       "    }\n",
       "\n",
       "    .dataframe tbody tr th {\n",
       "        vertical-align: top;\n",
       "    }\n",
       "\n",
       "    .dataframe thead th {\n",
       "        text-align: right;\n",
       "    }\n",
       "</style>\n",
       "<table border=\"1\" class=\"dataframe\">\n",
       "  <thead>\n",
       "    <tr style=\"text-align: right;\">\n",
       "      <th></th>\n",
       "      <th>review</th>\n",
       "      <th>true_label</th>\n",
       "      <th>predicted_label</th>\n",
       "    </tr>\n",
       "  </thead>\n",
       "  <tbody>\n",
       "    <tr>\n",
       "      <th>840</th>\n",
       "      <td>A good course so far , it introduces alot the theory about the material , and gives alot of advices on how and when to apply different algorithms  , 4 stars because i think that submitting homeworks should be followed by some sort of explanations or solutions to the problems , even tho homworks are a little bit guided !</td>\n",
       "      <td>0</td>\n",
       "      <td>1</td>\n",
       "    </tr>\n",
       "    <tr>\n",
       "      <th>2341</th>\n",
       "      <td>Good quality, one star taken away for the unsteady volume</td>\n",
       "      <td>0</td>\n",
       "      <td>1</td>\n",
       "    </tr>\n",
       "    <tr>\n",
       "      <th>2120</th>\n",
       "      <td>I would be much better if it would have included the more layman explanation.</td>\n",
       "      <td>0</td>\n",
       "      <td>1</td>\n",
       "    </tr>\n",
       "    <tr>\n",
       "      <th>469</th>\n",
       "      <td>It is hard, without a doubt, and u most probably will take more time to finish each week, than you can think. But I think this is as complete as it gets. DO NOT depend on this course solely. Go on to Khan Academy and other sites, and learn how the maths work. Although I was familiar with calculus and did a lot of it. Keeping up with all the not...</td>\n",
       "      <td>0</td>\n",
       "      <td>1</td>\n",
       "    </tr>\n",
       "    <tr>\n",
       "      <th>2876</th>\n",
       "      <td>VERY GOOD</td>\n",
       "      <td>0</td>\n",
       "      <td>1</td>\n",
       "    </tr>\n",
       "    <tr>\n",
       "      <th>3451</th>\n",
       "      <td>I learned a lot of concepts in an organized and structured manner in this course that I probably would have spent months trying to figure out on my own. Prof. Ng is one of the best teachers I have had, in spite of the fact that this was an online course. Thank you so much for providing these resources for the world to learn from. This is nothin...</td>\n",
       "      <td>0</td>\n",
       "      <td>1</td>\n",
       "    </tr>\n",
       "    <tr>\n",
       "      <th>742</th>\n",
       "      <td>The course works well as an introductory course providing an overview of what machine learning is and what it involves.The instructor is didactic, the activities served to understand the process involved in the programming of machine learning systems. About the tests, I sometimes found the text a little confusing, but maybe it's because I'm not...</td>\n",
       "      <td>0</td>\n",
       "      <td>1</td>\n",
       "    </tr>\n",
       "    <tr>\n",
       "      <th>6442</th>\n",
       "      <td>I have been struggling to initiate Machine learning on my own.I was always fascinated by it but always failed in getting myself into the right framework and mood to learn ML.This course in particular has helped me a lot in understanding and getting into depth of areas of ML.I cannot thank enough Stand ford and Andrew Ng for this wonderful lesson.</td>\n",
       "      <td>0</td>\n",
       "      <td>1</td>\n",
       "    </tr>\n",
       "    <tr>\n",
       "      <th>2771</th>\n",
       "      <td>Very instructional!</td>\n",
       "      <td>0</td>\n",
       "      <td>1</td>\n",
       "    </tr>\n",
       "    <tr>\n",
       "      <th>2037</th>\n",
       "      <td>This course provides sufficient knowledge to understand a lot of jargon related to ML.</td>\n",
       "      <td>0</td>\n",
       "      <td>1</td>\n",
       "    </tr>\n",
       "  </tbody>\n",
       "</table>\n",
       "</div>"
      ],
      "text/plain": [
       "                                                                                                                                                                                                                                                                                                                                                             review  \\\n",
       "840                               A good course so far , it introduces alot the theory about the material , and gives alot of advices on how and when to apply different algorithms  , 4 stars because i think that submitting homeworks should be followed by some sort of explanations or solutions to the problems , even tho homworks are a little bit guided !   \n",
       "2341                                                                                                                                                                                                                                                                                                      Good quality, one star taken away for the unsteady volume   \n",
       "2120                                                                                                                                                                                                                                                                                  I would be much better if it would have included the more layman explanation.   \n",
       "469   It is hard, without a doubt, and u most probably will take more time to finish each week, than you can think. But I think this is as complete as it gets. DO NOT depend on this course solely. Go on to Khan Academy and other sites, and learn how the maths work. Although I was familiar with calculus and did a lot of it. Keeping up with all the not...   \n",
       "2876                                                                                                                                                                                                                                                                                                                                                      VERY GOOD   \n",
       "3451  I learned a lot of concepts in an organized and structured manner in this course that I probably would have spent months trying to figure out on my own. Prof. Ng is one of the best teachers I have had, in spite of the fact that this was an online course. Thank you so much for providing these resources for the world to learn from. This is nothin...   \n",
       "742   The course works well as an introductory course providing an overview of what machine learning is and what it involves.The instructor is didactic, the activities served to understand the process involved in the programming of machine learning systems. About the tests, I sometimes found the text a little confusing, but maybe it's because I'm not...   \n",
       "6442   I have been struggling to initiate Machine learning on my own.I was always fascinated by it but always failed in getting myself into the right framework and mood to learn ML.This course in particular has helped me a lot in understanding and getting into depth of areas of ML.I cannot thank enough Stand ford and Andrew Ng for this wonderful lesson.   \n",
       "2771                                                                                                                                                                                                                                                                                                                                            Very instructional!   \n",
       "2037                                                                                                                                                                                                                                                                        This course provides sufficient knowledge to understand a lot of jargon related to ML.    \n",
       "\n",
       "      true_label  predicted_label  \n",
       "840            0                1  \n",
       "2341           0                1  \n",
       "2120           0                1  \n",
       "469            0                1  \n",
       "2876           0                1  \n",
       "3451           0                1  \n",
       "742            0                1  \n",
       "6442           0                1  \n",
       "2771           0                1  \n",
       "2037           0                1  "
      ]
     },
     "execution_count": 59,
     "metadata": {},
     "output_type": "execute_result"
    }
   ],
   "source": [
    "# Misclassification Analysis(ACA)\n",
    "mca_df = reviews.filter(X_test.index, axis=0)\n",
    "mca_df['true_label'] = y_test\n",
    "mca_df['predicted_label'] = logic.predict(X_test)\n",
    "mca_df[(mca_df['true_label']==0)&(mca_df['predicted_label']==1)][['review','true_label','predicted_label']].head(10)"
   ]
  },
  {
   "cell_type": "markdown",
   "id": "enclosed-shepherd",
   "metadata": {},
   "source": [
    "#### SMOTE (Synthetic Minority Over-sampling Technique)"
   ]
  },
  {
   "cell_type": "code",
   "execution_count": 60,
   "id": "acknowledged-basis",
   "metadata": {},
   "outputs": [
    {
     "name": "stdout",
     "output_type": "stream",
     "text": [
      "Original dataset classes: Counter({0: 9359, 1: 293})\n",
      "Resampled dataset classes: Counter({0: 9359, 1: 9359})\n",
      "\n",
      "Test dataset classes still the same to model real world: Counter({0: 3108, 1: 110})\n",
      "\n",
      "X_train shape (under/reg):  (18718, 2245) (9652, 2245)\n",
      "y_train shape (under/reg):  (18718,) (9652,)\n",
      "X_test shape, y_test shape:  (3218, 2245) (3218,)\n"
     ]
    }
   ],
   "source": [
    "smo = SMOTE(random_state=42)\n",
    "\n",
    "X_train_smote, y_train_smote = smo.fit_resample(X_train, y_train)\n",
    "\n",
    "print_sampling_stats(X_train, X_train_smote,\n",
    "                     y_train, y_train_smote,\n",
    "                     y_test)"
   ]
  },
  {
   "cell_type": "code",
   "execution_count": 61,
   "id": "balanced-template",
   "metadata": {},
   "outputs": [
    {
     "data": {
      "text/plain": [
       "0    0.5\n",
       "1    0.5\n",
       "Name: review_is_bad, dtype: float64"
      ]
     },
     "execution_count": 61,
     "metadata": {},
     "output_type": "execute_result"
    }
   ],
   "source": [
    "y_train_smote.value_counts(normalize=True)"
   ]
  },
  {
   "cell_type": "code",
   "execution_count": 62,
   "id": "alleged-fisher",
   "metadata": {},
   "outputs": [
    {
     "name": "stdout",
     "output_type": "stream",
     "text": [
      "Accuracy Rate (train): 0.8512225445503523, Accuracy Rate (test): 0.857986326911125\n",
      "\n"
     ]
    },
    {
     "data": {
      "image/png": "[encoded data removed]",
      "text/plain": [
       "<Figure size 432x288 with 2 Axes>"
      ]
     },
     "metadata": {
      "needs_background": "light"
     },
     "output_type": "display_data"
    }
   ],
   "source": [
    "logic = LogisticRegression(solver='liblinear', penalty='l1', C=0.03)\n",
    "logic.fit(X_train_smote,y_train_smote)\n",
    "print(f'Accuracy Rate (train): {logic.score(X_train, y_train)}, Accuracy Rate (test): {logic.score(X_test, y_test)}')\n",
    "print('')\n",
    "metrics.plot_confusion_matrix(logic, X_test, y_test, cmap='YlOrBr', \n",
    "                              values_format='d', display_labels=['Good Reviews', 'Bad Reviews']);"
   ]
  },
  {
   "cell_type": "code",
   "execution_count": 66,
   "id": "cognitive-biodiversity",
   "metadata": {},
   "outputs": [
    {
     "name": "stdout",
     "output_type": "stream",
     "text": [
      "              precision    recall  f1-score   support\n",
      "\n",
      "           0       0.99      0.86      0.92      3108\n",
      "           1       0.17      0.85      0.29       110\n",
      "\n",
      "    accuracy                           0.86      3218\n",
      "   macro avg       0.58      0.85      0.61      3218\n",
      "weighted avg       0.97      0.86      0.90      3218\n",
      "\n"
     ]
    }
   ],
   "source": [
    "y_true = y_test\n",
    "y_pred = logic.predict(X_test)\n",
    "print(metrics.classification_report(y_true, y_pred))"
   ]
  },
  {
   "cell_type": "code",
   "execution_count": 63,
   "id": "noble-skiing",
   "metadata": {},
   "outputs": [
    {
     "data": {
      "text/html": [
       "<div>\n",
       "<style scoped>\n",
       "    .dataframe tbody tr th:only-of-type {\n",
       "        vertical-align: middle;\n",
       "    }\n",
       "\n",
       "    .dataframe tbody tr th {\n",
       "        vertical-align: top;\n",
       "    }\n",
       "\n",
       "    .dataframe thead th {\n",
       "        text-align: right;\n",
       "    }\n",
       "</style>\n",
       "<table border=\"1\" class=\"dataframe\">\n",
       "  <thead>\n",
       "    <tr style=\"text-align: right;\">\n",
       "      <th></th>\n",
       "      <th>model_coefficient</th>\n",
       "    </tr>\n",
       "  </thead>\n",
       "  <tbody>\n",
       "    <tr>\n",
       "      <th>nb_chars</th>\n",
       "      <td>-0.006653</td>\n",
       "    </tr>\n",
       "    <tr>\n",
       "      <th>nb_words</th>\n",
       "      <td>0.040371</td>\n",
       "    </tr>\n",
       "    <tr>\n",
       "      <th>compound</th>\n",
       "      <td>-3.908097</td>\n",
       "    </tr>\n",
       "    <tr>\n",
       "      <th>doc2vec_vector_0</th>\n",
       "      <td>1.915997</td>\n",
       "    </tr>\n",
       "    <tr>\n",
       "      <th>doc2vec_vector_1</th>\n",
       "      <td>2.187846</td>\n",
       "    </tr>\n",
       "    <tr>\n",
       "      <th>doc2vec_vector_2</th>\n",
       "      <td>-0.890301</td>\n",
       "    </tr>\n",
       "    <tr>\n",
       "      <th>doc2vec_vector_3</th>\n",
       "      <td>0.569796</td>\n",
       "    </tr>\n",
       "    <tr>\n",
       "      <th>doc2vec_vector_4</th>\n",
       "      <td>-1.950893</td>\n",
       "    </tr>\n",
       "    <tr>\n",
       "      <th>word_andrew</th>\n",
       "      <td>-0.011841</td>\n",
       "    </tr>\n",
       "    <tr>\n",
       "      <th>word_concept</th>\n",
       "      <td>-0.175658</td>\n",
       "    </tr>\n",
       "    <tr>\n",
       "      <th>word_good</th>\n",
       "      <td>2.221407</td>\n",
       "    </tr>\n",
       "    <tr>\n",
       "      <th>word_learn</th>\n",
       "      <td>-0.915839</td>\n",
       "    </tr>\n",
       "    <tr>\n",
       "      <th>word_machine</th>\n",
       "      <td>-0.429307</td>\n",
       "    </tr>\n",
       "    <tr>\n",
       "      <th>word_python</th>\n",
       "      <td>0.000136</td>\n",
       "    </tr>\n",
       "    <tr>\n",
       "      <th>word_would</th>\n",
       "      <td>0.116095</td>\n",
       "    </tr>\n",
       "  </tbody>\n",
       "</table>\n",
       "</div>"
      ],
      "text/plain": [
       "                  model_coefficient\n",
       "nb_chars                  -0.006653\n",
       "nb_words                   0.040371\n",
       "compound                  -3.908097\n",
       "doc2vec_vector_0           1.915997\n",
       "doc2vec_vector_1           2.187846\n",
       "doc2vec_vector_2          -0.890301\n",
       "doc2vec_vector_3           0.569796\n",
       "doc2vec_vector_4          -1.950893\n",
       "word_andrew               -0.011841\n",
       "word_concept              -0.175658\n",
       "word_good                  2.221407\n",
       "word_learn                -0.915839\n",
       "word_machine              -0.429307\n",
       "word_python                0.000136\n",
       "word_would                 0.116095"
      ]
     },
     "execution_count": 63,
     "metadata": {},
     "output_type": "execute_result"
    }
   ],
   "source": [
    "# put the selected features into a DataFrame\n",
    "coefficients = pd.DataFrame(data=logic.coef_[0], index=X_train.columns, columns=['model_coefficient'])\n",
    "\n",
    "# list the features of the non-zero coefficients \n",
    "coefficients[coefficients['model_coefficient']!=0]"
   ]
  },
  {
   "cell_type": "code",
   "execution_count": 64,
   "id": "genetic-patch",
   "metadata": {},
   "outputs": [
    {
     "data": {
      "text/html": [
       "<div>\n",
       "<style scoped>\n",
       "    .dataframe tbody tr th:only-of-type {\n",
       "        vertical-align: middle;\n",
       "    }\n",
       "\n",
       "    .dataframe tbody tr th {\n",
       "        vertical-align: top;\n",
       "    }\n",
       "\n",
       "    .dataframe thead th {\n",
       "        text-align: right;\n",
       "    }\n",
       "</style>\n",
       "<table border=\"1\" class=\"dataframe\">\n",
       "  <thead>\n",
       "    <tr style=\"text-align: right;\">\n",
       "      <th></th>\n",
       "      <th>review</th>\n",
       "      <th>true_label</th>\n",
       "      <th>predicted_label</th>\n",
       "    </tr>\n",
       "  </thead>\n",
       "  <tbody>\n",
       "    <tr>\n",
       "      <th>840</th>\n",
       "      <td>A good course so far , it introduces alot the theory about the material , and gives alot of advices on how and when to apply different algorithms  , 4 stars because i think that submitting homeworks should be followed by some sort of explanations or solutions to the problems , even tho homworks are a little bit guided !</td>\n",
       "      <td>0</td>\n",
       "      <td>1</td>\n",
       "    </tr>\n",
       "    <tr>\n",
       "      <th>2341</th>\n",
       "      <td>Good quality, one star taken away for the unsteady volume</td>\n",
       "      <td>0</td>\n",
       "      <td>1</td>\n",
       "    </tr>\n",
       "    <tr>\n",
       "      <th>2120</th>\n",
       "      <td>I would be much better if it would have included the more layman explanation.</td>\n",
       "      <td>0</td>\n",
       "      <td>1</td>\n",
       "    </tr>\n",
       "    <tr>\n",
       "      <th>469</th>\n",
       "      <td>It is hard, without a doubt, and u most probably will take more time to finish each week, than you can think. But I think this is as complete as it gets. DO NOT depend on this course solely. Go on to Khan Academy and other sites, and learn how the maths work. Although I was familiar with calculus and did a lot of it. Keeping up with all the not...</td>\n",
       "      <td>0</td>\n",
       "      <td>1</td>\n",
       "    </tr>\n",
       "    <tr>\n",
       "      <th>2876</th>\n",
       "      <td>VERY GOOD</td>\n",
       "      <td>0</td>\n",
       "      <td>1</td>\n",
       "    </tr>\n",
       "    <tr>\n",
       "      <th>3451</th>\n",
       "      <td>I learned a lot of concepts in an organized and structured manner in this course that I probably would have spent months trying to figure out on my own. Prof. Ng is one of the best teachers I have had, in spite of the fact that this was an online course. Thank you so much for providing these resources for the world to learn from. This is nothin...</td>\n",
       "      <td>0</td>\n",
       "      <td>1</td>\n",
       "    </tr>\n",
       "    <tr>\n",
       "      <th>742</th>\n",
       "      <td>The course works well as an introductory course providing an overview of what machine learning is and what it involves.The instructor is didactic, the activities served to understand the process involved in the programming of machine learning systems. About the tests, I sometimes found the text a little confusing, but maybe it's because I'm not...</td>\n",
       "      <td>0</td>\n",
       "      <td>1</td>\n",
       "    </tr>\n",
       "    <tr>\n",
       "      <th>6442</th>\n",
       "      <td>I have been struggling to initiate Machine learning on my own.I was always fascinated by it but always failed in getting myself into the right framework and mood to learn ML.This course in particular has helped me a lot in understanding and getting into depth of areas of ML.I cannot thank enough Stand ford and Andrew Ng for this wonderful lesson.</td>\n",
       "      <td>0</td>\n",
       "      <td>1</td>\n",
       "    </tr>\n",
       "    <tr>\n",
       "      <th>2771</th>\n",
       "      <td>Very instructional!</td>\n",
       "      <td>0</td>\n",
       "      <td>1</td>\n",
       "    </tr>\n",
       "    <tr>\n",
       "      <th>2037</th>\n",
       "      <td>This course provides sufficient knowledge to understand a lot of jargon related to ML.</td>\n",
       "      <td>0</td>\n",
       "      <td>1</td>\n",
       "    </tr>\n",
       "  </tbody>\n",
       "</table>\n",
       "</div>"
      ],
      "text/plain": [
       "                                                                                                                                                                                                                                                                                                                                                             review  \\\n",
       "840                               A good course so far , it introduces alot the theory about the material , and gives alot of advices on how and when to apply different algorithms  , 4 stars because i think that submitting homeworks should be followed by some sort of explanations or solutions to the problems , even tho homworks are a little bit guided !   \n",
       "2341                                                                                                                                                                                                                                                                                                      Good quality, one star taken away for the unsteady volume   \n",
       "2120                                                                                                                                                                                                                                                                                  I would be much better if it would have included the more layman explanation.   \n",
       "469   It is hard, without a doubt, and u most probably will take more time to finish each week, than you can think. But I think this is as complete as it gets. DO NOT depend on this course solely. Go on to Khan Academy and other sites, and learn how the maths work. Although I was familiar with calculus and did a lot of it. Keeping up with all the not...   \n",
       "2876                                                                                                                                                                                                                                                                                                                                                      VERY GOOD   \n",
       "3451  I learned a lot of concepts in an organized and structured manner in this course that I probably would have spent months trying to figure out on my own. Prof. Ng is one of the best teachers I have had, in spite of the fact that this was an online course. Thank you so much for providing these resources for the world to learn from. This is nothin...   \n",
       "742   The course works well as an introductory course providing an overview of what machine learning is and what it involves.The instructor is didactic, the activities served to understand the process involved in the programming of machine learning systems. About the tests, I sometimes found the text a little confusing, but maybe it's because I'm not...   \n",
       "6442   I have been struggling to initiate Machine learning on my own.I was always fascinated by it but always failed in getting myself into the right framework and mood to learn ML.This course in particular has helped me a lot in understanding and getting into depth of areas of ML.I cannot thank enough Stand ford and Andrew Ng for this wonderful lesson.   \n",
       "2771                                                                                                                                                                                                                                                                                                                                            Very instructional!   \n",
       "2037                                                                                                                                                                                                                                                                        This course provides sufficient knowledge to understand a lot of jargon related to ML.    \n",
       "\n",
       "      true_label  predicted_label  \n",
       "840            0                1  \n",
       "2341           0                1  \n",
       "2120           0                1  \n",
       "469            0                1  \n",
       "2876           0                1  \n",
       "3451           0                1  \n",
       "742            0                1  \n",
       "6442           0                1  \n",
       "2771           0                1  \n",
       "2037           0                1  "
      ]
     },
     "execution_count": 64,
     "metadata": {},
     "output_type": "execute_result"
    }
   ],
   "source": [
    "# Misclassification Analysis(ACA)\n",
    "mca_df = reviews.filter(X_test.index, axis=0)\n",
    "mca_df['true_label'] = y_test\n",
    "mca_df['predicted_label'] = logic.predict(X_test)\n",
    "mca_df[(mca_df['true_label']==0)&(mca_df['predicted_label']==1)][['review','true_label','predicted_label']].head(10)"
   ]
  },
  {
   "cell_type": "markdown",
   "id": "wanted-easter",
   "metadata": {},
   "source": [
    "**Key takeways:** with adjusting class imbalance, the logistic model can outperform the baseline significantly."
   ]
  },
  {
   "cell_type": "code",
   "execution_count": 65,
   "id": "billion-harrison",
   "metadata": {},
   "outputs": [],
   "source": [
    "# end of notebook"
   ]
  },
  {
   "cell_type": "code",
   "execution_count": null,
   "id": "worse-candy",
   "metadata": {},
   "outputs": [],
   "source": []
  }
 ],
 "metadata": {
  "kernelspec": {
   "display_name": "Python 3",
   "language": "python",
   "name": "python3"
  },
  "language_info": {
   "codemirror_mode": {
    "name": "ipython",
    "version": 3
   },
   "file_extension": ".py",
   "mimetype": "text/x-python",
   "name": "python",
   "nbconvert_exporter": "python",
   "pygments_lexer": "ipython3",
   "version": "3.8.5"
  }
 },
 "nbformat": 4,
 "nbformat_minor": 5
}
