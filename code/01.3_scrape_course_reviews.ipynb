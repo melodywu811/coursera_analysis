{
 "cells": [
  {
   "cell_type": "markdown",
   "id": "higher-milton",
   "metadata": {},
   "source": [
    "## 1.3 Course review scraper  \n",
    "This notebook presents the codes used to scrape course reviews given a course href link. "
   ]
  },
  {
   "cell_type": "markdown",
   "id": "considerable-college",
   "metadata": {},
   "source": [
    "### Import libraries"
   ]
  },
  {
   "cell_type": "code",
   "execution_count": 2,
   "id": "appropriate-decline",
   "metadata": {},
   "outputs": [],
   "source": [
    "# webscraping libraries\n",
    "import requests\n",
    "from bs4 import BeautifulSoup\n",
    "\n",
    "# other libraries \n",
    "import pandas as pd\n",
    "import numpy as np\n",
    "import seaborn as sns\n",
    "import matplotlib.pyplot as plt\n",
    "\n",
    "pd.options.display.max_colwidth = 350"
   ]
  },
  {
   "cell_type": "markdown",
   "id": "documentary-liberia",
   "metadata": {},
   "source": [
    "### Scrape Reviews"
   ]
  },
  {
   "cell_type": "code",
   "execution_count": 3,
   "id": "hawaiian-raise",
   "metadata": {},
   "outputs": [],
   "source": [
    "# sample URL: https://www.coursera.org/learn/data-analysis-with-python/reviews?star=1\n",
    "\n",
    "def pages_of_reviews(course_href='/learn/excel-essentials', rating=2):\n",
    "    url = f'https://www.coursera.org/{course_href}/reviews?star={rating}'\n",
    "    res = requests.get(url) \n",
    "    soup = BeautifulSoup(res.content)\n",
    "    last_page = int(soup.find('ul', {'class':'_l6n5rs cui-buttonList'})\n",
    "                    .find_all('li', {'style':'display:inline-block'})[-2].text)\n",
    "    return last_page"
   ]
  },
  {
   "cell_type": "code",
   "execution_count": 4,
   "id": "lonely-capitol",
   "metadata": {},
   "outputs": [],
   "source": [
    "# sample URL: https://www.coursera.org/learn/data-analysis-with-python/reviews?star=1&page=2\n",
    "\n",
    "def scrape_reviews_by_rating_page(course_href, rating, review_page):\n",
    "    url = f'https://www.coursera.org/{course_href}/reviews?star={rating}&page={review_page}'\n",
    "    res = requests.get(url) \n",
    "    soup = BeautifulSoup(res.content)\n",
    "    list_of_reviews = [review.text for review in soup.find_all('div', {'class':'reviewText'})]\n",
    "    list_of_dates = [review.text for review in soup.find_all('div', {'class':'dateOfReview p-x-1s m-b-0 text-secondary font-xs'})]\n",
    "    dict_reviews = {\n",
    "        'review': list_of_reviews,\n",
    "        'date_of_review': list_of_dates,\n",
    "        'rating': rating,\n",
    "        'course_href': course_href}\n",
    "    df = pd.DataFrame(dict_reviews)\n",
    "    return df "
   ]
  },
  {
   "cell_type": "code",
   "execution_count": 5,
   "id": "dutch-dispute",
   "metadata": {},
   "outputs": [],
   "source": [
    "# sample URL: https://www.coursera.org/learn/data-analysis-with-python\n",
    "\n",
    "def scrape_reviews(course_href):\n",
    "    df_list = []\n",
    "    for rating in range(1,6):\n",
    "        pages = pages_of_reviews(course_href, rating)\n",
    "        for review_page in range(1, pages+1):\n",
    "            df = scrape_reviews_by_rating_page(course_href, rating, review_page)\n",
    "            df_list.append(df)\n",
    "    return pd.concat(df_list, ignore_index=True)"
   ]
  },
  {
   "cell_type": "code",
   "execution_count": 6,
   "id": "cellular-roman",
   "metadata": {},
   "outputs": [],
   "source": [
    "reviews_machine_learning = scrape_reviews('/learn/machine-learning')"
   ]
  },
  {
   "cell_type": "code",
   "execution_count": 8,
   "id": "continental-martin",
   "metadata": {},
   "outputs": [],
   "source": [
    "# uncomment to run code\n",
    "# reviews_machine_learning.to_csv('./data/reviews_machine_learning.csv') "
   ]
  },
  {
   "cell_type": "code",
   "execution_count": null,
   "id": "changing-forum",
   "metadata": {},
   "outputs": [],
   "source": [
    "# end of notebook"
   ]
  }
 ],
 "metadata": {
  "kernelspec": {
   "display_name": "Python 3",
   "language": "python",
   "name": "python3"
  },
  "language_info": {
   "codemirror_mode": {
    "name": "ipython",
    "version": 3
   },
   "file_extension": ".py",
   "mimetype": "text/x-python",
   "name": "python",
   "nbconvert_exporter": "python",
   "pygments_lexer": "ipython3",
   "version": "3.8.5"
  }
 },
 "nbformat": 4,
 "nbformat_minor": 5
}
